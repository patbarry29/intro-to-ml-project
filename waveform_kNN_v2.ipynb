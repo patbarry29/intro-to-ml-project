{
 "cells": [
  {
   "cell_type": "markdown",
   "metadata": {
    "id": "TCLRn1pmA06u"
   },
   "source": [
    "# Imports"
   ]
  },
  {
   "cell_type": "code",
   "execution_count": 1,
   "metadata": {
    "id": "qH38co0F86sD"
   },
   "outputs": [],
   "source": [
    "import pandas as pd\n",
    "import numpy as np\n",
    "import matplotlib.pyplot as plt\n",
    "from tqdm import tqdm\n",
    "import seaborn as sns\n",
    "from pandas.plotting import scatter_matrix\n",
    "from seaborn import scatterplot\n",
    "import time"
   ]
  },
  {
   "cell_type": "markdown",
   "metadata": {
    "id": "zaNFjF3LA674"
   },
   "source": [
    "## Data Import"
   ]
  },
  {
   "cell_type": "code",
   "execution_count": 2,
   "metadata": {},
   "outputs": [],
   "source": [
    "df = pd.read_csv('data/waveform.data', header=None)\n",
    "df_original = df.copy()\n"
   ]
  },
  {
   "cell_type": "markdown",
   "metadata": {
    "id": "tNVBum3ZBBCQ"
   },
   "source": [
    "# Learning to Use Pandas"
   ]
  },
  {
   "cell_type": "code",
   "execution_count": 3,
   "metadata": {
    "colab": {
     "base_uri": "https://localhost:8080/"
    },
    "id": "gMmFxkl7BHZm",
    "outputId": "c1b9c9ee-bfba-4c0d-a49e-da5acbae40c3"
   },
   "outputs": [
    {
     "data": {
      "text/html": [
       "<div>\n",
       "<style scoped>\n",
       "    .dataframe tbody tr th:only-of-type {\n",
       "        vertical-align: middle;\n",
       "    }\n",
       "\n",
       "    .dataframe tbody tr th {\n",
       "        vertical-align: top;\n",
       "    }\n",
       "\n",
       "    .dataframe thead th {\n",
       "        text-align: right;\n",
       "    }\n",
       "</style>\n",
       "<table border=\"1\" class=\"dataframe\">\n",
       "  <thead>\n",
       "    <tr style=\"text-align: right;\">\n",
       "      <th></th>\n",
       "      <th>0</th>\n",
       "      <th>1</th>\n",
       "      <th>2</th>\n",
       "      <th>3</th>\n",
       "      <th>4</th>\n",
       "      <th>5</th>\n",
       "      <th>6</th>\n",
       "      <th>7</th>\n",
       "      <th>8</th>\n",
       "      <th>9</th>\n",
       "      <th>...</th>\n",
       "      <th>12</th>\n",
       "      <th>13</th>\n",
       "      <th>14</th>\n",
       "      <th>15</th>\n",
       "      <th>16</th>\n",
       "      <th>17</th>\n",
       "      <th>18</th>\n",
       "      <th>19</th>\n",
       "      <th>20</th>\n",
       "      <th>21</th>\n",
       "    </tr>\n",
       "  </thead>\n",
       "  <tbody>\n",
       "    <tr>\n",
       "      <th>0</th>\n",
       "      <td>-1.23</td>\n",
       "      <td>-1.56</td>\n",
       "      <td>-1.75</td>\n",
       "      <td>-0.28</td>\n",
       "      <td>0.60</td>\n",
       "      <td>2.22</td>\n",
       "      <td>0.85</td>\n",
       "      <td>0.21</td>\n",
       "      <td>-0.20</td>\n",
       "      <td>0.89</td>\n",
       "      <td>...</td>\n",
       "      <td>2.89</td>\n",
       "      <td>7.75</td>\n",
       "      <td>4.59</td>\n",
       "      <td>3.15</td>\n",
       "      <td>5.12</td>\n",
       "      <td>3.32</td>\n",
       "      <td>1.20</td>\n",
       "      <td>0.24</td>\n",
       "      <td>-0.56</td>\n",
       "      <td>2</td>\n",
       "    </tr>\n",
       "    <tr>\n",
       "      <th>1</th>\n",
       "      <td>-0.69</td>\n",
       "      <td>2.43</td>\n",
       "      <td>0.61</td>\n",
       "      <td>2.08</td>\n",
       "      <td>2.30</td>\n",
       "      <td>3.25</td>\n",
       "      <td>5.52</td>\n",
       "      <td>4.55</td>\n",
       "      <td>2.97</td>\n",
       "      <td>2.22</td>\n",
       "      <td>...</td>\n",
       "      <td>1.24</td>\n",
       "      <td>1.89</td>\n",
       "      <td>1.88</td>\n",
       "      <td>-1.34</td>\n",
       "      <td>0.83</td>\n",
       "      <td>1.41</td>\n",
       "      <td>1.78</td>\n",
       "      <td>0.60</td>\n",
       "      <td>2.42</td>\n",
       "      <td>1</td>\n",
       "    </tr>\n",
       "    <tr>\n",
       "      <th>2</th>\n",
       "      <td>-0.12</td>\n",
       "      <td>-0.94</td>\n",
       "      <td>1.29</td>\n",
       "      <td>2.59</td>\n",
       "      <td>2.42</td>\n",
       "      <td>3.55</td>\n",
       "      <td>4.94</td>\n",
       "      <td>3.25</td>\n",
       "      <td>1.90</td>\n",
       "      <td>2.07</td>\n",
       "      <td>...</td>\n",
       "      <td>2.50</td>\n",
       "      <td>0.12</td>\n",
       "      <td>1.41</td>\n",
       "      <td>2.78</td>\n",
       "      <td>0.64</td>\n",
       "      <td>0.62</td>\n",
       "      <td>-0.01</td>\n",
       "      <td>-0.79</td>\n",
       "      <td>-0.12</td>\n",
       "      <td>0</td>\n",
       "    </tr>\n",
       "    <tr>\n",
       "      <th>3</th>\n",
       "      <td>0.86</td>\n",
       "      <td>0.29</td>\n",
       "      <td>2.19</td>\n",
       "      <td>-0.02</td>\n",
       "      <td>1.13</td>\n",
       "      <td>2.51</td>\n",
       "      <td>2.37</td>\n",
       "      <td>5.45</td>\n",
       "      <td>5.45</td>\n",
       "      <td>4.84</td>\n",
       "      <td>...</td>\n",
       "      <td>2.58</td>\n",
       "      <td>1.40</td>\n",
       "      <td>1.24</td>\n",
       "      <td>1.41</td>\n",
       "      <td>1.07</td>\n",
       "      <td>-1.43</td>\n",
       "      <td>2.84</td>\n",
       "      <td>-1.18</td>\n",
       "      <td>1.12</td>\n",
       "      <td>1</td>\n",
       "    </tr>\n",
       "    <tr>\n",
       "      <th>4</th>\n",
       "      <td>1.16</td>\n",
       "      <td>0.37</td>\n",
       "      <td>0.40</td>\n",
       "      <td>-0.59</td>\n",
       "      <td>2.66</td>\n",
       "      <td>1.00</td>\n",
       "      <td>2.69</td>\n",
       "      <td>4.06</td>\n",
       "      <td>5.34</td>\n",
       "      <td>3.53</td>\n",
       "      <td>...</td>\n",
       "      <td>4.30</td>\n",
       "      <td>1.84</td>\n",
       "      <td>1.73</td>\n",
       "      <td>0.21</td>\n",
       "      <td>-0.18</td>\n",
       "      <td>0.13</td>\n",
       "      <td>-0.21</td>\n",
       "      <td>-0.80</td>\n",
       "      <td>-0.68</td>\n",
       "      <td>1</td>\n",
       "    </tr>\n",
       "  </tbody>\n",
       "</table>\n",
       "<p>5 rows × 22 columns</p>\n",
       "</div>"
      ],
      "text/plain": [
       "     0     1     2     3     4     5     6     7     8     9   ...    12  \\\n",
       "0 -1.23 -1.56 -1.75 -0.28  0.60  2.22  0.85  0.21 -0.20  0.89  ...  2.89   \n",
       "1 -0.69  2.43  0.61  2.08  2.30  3.25  5.52  4.55  2.97  2.22  ...  1.24   \n",
       "2 -0.12 -0.94  1.29  2.59  2.42  3.55  4.94  3.25  1.90  2.07  ...  2.50   \n",
       "3  0.86  0.29  2.19 -0.02  1.13  2.51  2.37  5.45  5.45  4.84  ...  2.58   \n",
       "4  1.16  0.37  0.40 -0.59  2.66  1.00  2.69  4.06  5.34  3.53  ...  4.30   \n",
       "\n",
       "     13    14    15    16    17    18    19    20  21  \n",
       "0  7.75  4.59  3.15  5.12  3.32  1.20  0.24 -0.56   2  \n",
       "1  1.89  1.88 -1.34  0.83  1.41  1.78  0.60  2.42   1  \n",
       "2  0.12  1.41  2.78  0.64  0.62 -0.01 -0.79 -0.12   0  \n",
       "3  1.40  1.24  1.41  1.07 -1.43  2.84 -1.18  1.12   1  \n",
       "4  1.84  1.73  0.21 -0.18  0.13 -0.21 -0.80 -0.68   1  \n",
       "\n",
       "[5 rows x 22 columns]"
      ]
     },
     "execution_count": 3,
     "metadata": {},
     "output_type": "execute_result"
    }
   ],
   "source": [
    "df.head()"
   ]
  },
  {
   "cell_type": "code",
   "execution_count": 4,
   "metadata": {
    "colab": {
     "base_uri": "https://localhost:8080/"
    },
    "id": "nWuv4lFI8aRS",
    "outputId": "50036162-21df-4842-b843-7a982cc12cf3"
   },
   "outputs": [
    {
     "data": {
      "text/plain": [
       "(5000, 22)"
      ]
     },
     "execution_count": 4,
     "metadata": {},
     "output_type": "execute_result"
    }
   ],
   "source": [
    "num_features = df.shape[1]\n",
    "df.shape"
   ]
  },
  {
   "cell_type": "code",
   "execution_count": 5,
   "metadata": {
    "colab": {
     "base_uri": "https://localhost:8080/"
    },
    "id": "Ab1Jt44H8c49",
    "outputId": "effce992-5646-4240-d4c5-4bcacfa8f701"
   },
   "outputs": [
    {
     "data": {
      "text/html": [
       "<div>\n",
       "<style scoped>\n",
       "    .dataframe tbody tr th:only-of-type {\n",
       "        vertical-align: middle;\n",
       "    }\n",
       "\n",
       "    .dataframe tbody tr th {\n",
       "        vertical-align: top;\n",
       "    }\n",
       "\n",
       "    .dataframe thead th {\n",
       "        text-align: right;\n",
       "    }\n",
       "</style>\n",
       "<table border=\"1\" class=\"dataframe\">\n",
       "  <thead>\n",
       "    <tr style=\"text-align: right;\">\n",
       "      <th></th>\n",
       "      <th>0</th>\n",
       "      <th>1</th>\n",
       "      <th>2</th>\n",
       "      <th>3</th>\n",
       "      <th>4</th>\n",
       "      <th>5</th>\n",
       "      <th>6</th>\n",
       "      <th>7</th>\n",
       "      <th>8</th>\n",
       "      <th>9</th>\n",
       "      <th>...</th>\n",
       "      <th>12</th>\n",
       "      <th>13</th>\n",
       "      <th>14</th>\n",
       "      <th>15</th>\n",
       "      <th>16</th>\n",
       "      <th>17</th>\n",
       "      <th>18</th>\n",
       "      <th>19</th>\n",
       "      <th>20</th>\n",
       "      <th>21</th>\n",
       "    </tr>\n",
       "  </thead>\n",
       "  <tbody>\n",
       "    <tr>\n",
       "      <th>count</th>\n",
       "      <td>5000.000000</td>\n",
       "      <td>5000.000000</td>\n",
       "      <td>5000.000000</td>\n",
       "      <td>5000.000000</td>\n",
       "      <td>5000.000000</td>\n",
       "      <td>5000.000000</td>\n",
       "      <td>5000.000000</td>\n",
       "      <td>5000.000000</td>\n",
       "      <td>5000.000000</td>\n",
       "      <td>5000.000000</td>\n",
       "      <td>...</td>\n",
       "      <td>5000.000000</td>\n",
       "      <td>5000.000000</td>\n",
       "      <td>5000.000000</td>\n",
       "      <td>5000.000000</td>\n",
       "      <td>5000.000000</td>\n",
       "      <td>5000.000000</td>\n",
       "      <td>5000.000000</td>\n",
       "      <td>5000.000000</td>\n",
       "      <td>5000.000000</td>\n",
       "      <td>5000.000000</td>\n",
       "    </tr>\n",
       "    <tr>\n",
       "      <th>mean</th>\n",
       "      <td>0.005144</td>\n",
       "      <td>0.338746</td>\n",
       "      <td>0.672438</td>\n",
       "      <td>0.991610</td>\n",
       "      <td>1.310888</td>\n",
       "      <td>1.997306</td>\n",
       "      <td>2.661806</td>\n",
       "      <td>2.659228</td>\n",
       "      <td>2.672086</td>\n",
       "      <td>2.988668</td>\n",
       "      <td>...</td>\n",
       "      <td>2.678908</td>\n",
       "      <td>2.648632</td>\n",
       "      <td>2.647668</td>\n",
       "      <td>2.000504</td>\n",
       "      <td>1.335032</td>\n",
       "      <td>1.000622</td>\n",
       "      <td>0.661482</td>\n",
       "      <td>0.357300</td>\n",
       "      <td>-0.021378</td>\n",
       "      <td>1.007800</td>\n",
       "    </tr>\n",
       "    <tr>\n",
       "      <th>std</th>\n",
       "      <td>1.010130</td>\n",
       "      <td>1.053657</td>\n",
       "      <td>1.187970</td>\n",
       "      <td>1.415239</td>\n",
       "      <td>1.678291</td>\n",
       "      <td>1.814187</td>\n",
       "      <td>2.015774</td>\n",
       "      <td>1.746067</td>\n",
       "      <td>1.663277</td>\n",
       "      <td>1.531506</td>\n",
       "      <td>...</td>\n",
       "      <td>1.651588</td>\n",
       "      <td>1.760113</td>\n",
       "      <td>2.018768</td>\n",
       "      <td>1.810684</td>\n",
       "      <td>1.669949</td>\n",
       "      <td>1.412815</td>\n",
       "      <td>1.197326</td>\n",
       "      <td>1.081337</td>\n",
       "      <td>0.997064</td>\n",
       "      <td>0.818946</td>\n",
       "    </tr>\n",
       "    <tr>\n",
       "      <th>min</th>\n",
       "      <td>-3.340000</td>\n",
       "      <td>-3.250000</td>\n",
       "      <td>-4.200000</td>\n",
       "      <td>-3.840000</td>\n",
       "      <td>-3.480000</td>\n",
       "      <td>-2.760000</td>\n",
       "      <td>-3.320000</td>\n",
       "      <td>-3.520000</td>\n",
       "      <td>-3.380000</td>\n",
       "      <td>-1.790000</td>\n",
       "      <td>...</td>\n",
       "      <td>-2.610000</td>\n",
       "      <td>-2.820000</td>\n",
       "      <td>-2.560000</td>\n",
       "      <td>-2.990000</td>\n",
       "      <td>-3.560000</td>\n",
       "      <td>-4.080000</td>\n",
       "      <td>-3.500000</td>\n",
       "      <td>-3.570000</td>\n",
       "      <td>-3.880000</td>\n",
       "      <td>0.000000</td>\n",
       "    </tr>\n",
       "    <tr>\n",
       "      <th>25%</th>\n",
       "      <td>-0.680000</td>\n",
       "      <td>-0.372500</td>\n",
       "      <td>-0.150000</td>\n",
       "      <td>-0.020000</td>\n",
       "      <td>0.037500</td>\n",
       "      <td>0.590000</td>\n",
       "      <td>1.110000</td>\n",
       "      <td>1.390000</td>\n",
       "      <td>1.470000</td>\n",
       "      <td>1.880000</td>\n",
       "      <td>...</td>\n",
       "      <td>1.480000</td>\n",
       "      <td>1.360000</td>\n",
       "      <td>1.120000</td>\n",
       "      <td>0.640000</td>\n",
       "      <td>0.070000</td>\n",
       "      <td>-0.010000</td>\n",
       "      <td>-0.180000</td>\n",
       "      <td>-0.350000</td>\n",
       "      <td>-0.690000</td>\n",
       "      <td>0.000000</td>\n",
       "    </tr>\n",
       "    <tr>\n",
       "      <th>50%</th>\n",
       "      <td>0.010000</td>\n",
       "      <td>0.340000</td>\n",
       "      <td>0.660000</td>\n",
       "      <td>0.940000</td>\n",
       "      <td>1.120000</td>\n",
       "      <td>1.860000</td>\n",
       "      <td>2.500000</td>\n",
       "      <td>2.720000</td>\n",
       "      <td>2.810000</td>\n",
       "      <td>3.000000</td>\n",
       "      <td>...</td>\n",
       "      <td>2.830000</td>\n",
       "      <td>2.700000</td>\n",
       "      <td>2.490000</td>\n",
       "      <td>1.820000</td>\n",
       "      <td>1.200000</td>\n",
       "      <td>0.940000</td>\n",
       "      <td>0.620000</td>\n",
       "      <td>0.350000</td>\n",
       "      <td>-0.030000</td>\n",
       "      <td>1.000000</td>\n",
       "    </tr>\n",
       "    <tr>\n",
       "      <th>75%</th>\n",
       "      <td>0.690000</td>\n",
       "      <td>1.050000</td>\n",
       "      <td>1.460000</td>\n",
       "      <td>1.970000</td>\n",
       "      <td>2.540000</td>\n",
       "      <td>3.340000</td>\n",
       "      <td>4.210000</td>\n",
       "      <td>3.940000</td>\n",
       "      <td>3.940000</td>\n",
       "      <td>4.080000</td>\n",
       "      <td>...</td>\n",
       "      <td>3.932500</td>\n",
       "      <td>3.980000</td>\n",
       "      <td>4.182500</td>\n",
       "      <td>3.330000</td>\n",
       "      <td>2.532500</td>\n",
       "      <td>1.960000</td>\n",
       "      <td>1.470000</td>\n",
       "      <td>1.072500</td>\n",
       "      <td>0.660000</td>\n",
       "      <td>2.000000</td>\n",
       "    </tr>\n",
       "    <tr>\n",
       "      <th>max</th>\n",
       "      <td>3.940000</td>\n",
       "      <td>3.880000</td>\n",
       "      <td>4.720000</td>\n",
       "      <td>5.750000</td>\n",
       "      <td>6.500000</td>\n",
       "      <td>7.620000</td>\n",
       "      <td>8.760000</td>\n",
       "      <td>7.840000</td>\n",
       "      <td>7.900000</td>\n",
       "      <td>7.630000</td>\n",
       "      <td>...</td>\n",
       "      <td>7.500000</td>\n",
       "      <td>7.750000</td>\n",
       "      <td>8.720000</td>\n",
       "      <td>7.860000</td>\n",
       "      <td>6.740000</td>\n",
       "      <td>6.200000</td>\n",
       "      <td>5.280000</td>\n",
       "      <td>4.650000</td>\n",
       "      <td>4.010000</td>\n",
       "      <td>2.000000</td>\n",
       "    </tr>\n",
       "  </tbody>\n",
       "</table>\n",
       "<p>8 rows × 22 columns</p>\n",
       "</div>"
      ],
      "text/plain": [
       "                0            1            2            3            4   \\\n",
       "count  5000.000000  5000.000000  5000.000000  5000.000000  5000.000000   \n",
       "mean      0.005144     0.338746     0.672438     0.991610     1.310888   \n",
       "std       1.010130     1.053657     1.187970     1.415239     1.678291   \n",
       "min      -3.340000    -3.250000    -4.200000    -3.840000    -3.480000   \n",
       "25%      -0.680000    -0.372500    -0.150000    -0.020000     0.037500   \n",
       "50%       0.010000     0.340000     0.660000     0.940000     1.120000   \n",
       "75%       0.690000     1.050000     1.460000     1.970000     2.540000   \n",
       "max       3.940000     3.880000     4.720000     5.750000     6.500000   \n",
       "\n",
       "                5            6            7            8            9   ...  \\\n",
       "count  5000.000000  5000.000000  5000.000000  5000.000000  5000.000000  ...   \n",
       "mean      1.997306     2.661806     2.659228     2.672086     2.988668  ...   \n",
       "std       1.814187     2.015774     1.746067     1.663277     1.531506  ...   \n",
       "min      -2.760000    -3.320000    -3.520000    -3.380000    -1.790000  ...   \n",
       "25%       0.590000     1.110000     1.390000     1.470000     1.880000  ...   \n",
       "50%       1.860000     2.500000     2.720000     2.810000     3.000000  ...   \n",
       "75%       3.340000     4.210000     3.940000     3.940000     4.080000  ...   \n",
       "max       7.620000     8.760000     7.840000     7.900000     7.630000  ...   \n",
       "\n",
       "                12           13           14           15           16  \\\n",
       "count  5000.000000  5000.000000  5000.000000  5000.000000  5000.000000   \n",
       "mean      2.678908     2.648632     2.647668     2.000504     1.335032   \n",
       "std       1.651588     1.760113     2.018768     1.810684     1.669949   \n",
       "min      -2.610000    -2.820000    -2.560000    -2.990000    -3.560000   \n",
       "25%       1.480000     1.360000     1.120000     0.640000     0.070000   \n",
       "50%       2.830000     2.700000     2.490000     1.820000     1.200000   \n",
       "75%       3.932500     3.980000     4.182500     3.330000     2.532500   \n",
       "max       7.500000     7.750000     8.720000     7.860000     6.740000   \n",
       "\n",
       "                17           18           19           20           21  \n",
       "count  5000.000000  5000.000000  5000.000000  5000.000000  5000.000000  \n",
       "mean      1.000622     0.661482     0.357300    -0.021378     1.007800  \n",
       "std       1.412815     1.197326     1.081337     0.997064     0.818946  \n",
       "min      -4.080000    -3.500000    -3.570000    -3.880000     0.000000  \n",
       "25%      -0.010000    -0.180000    -0.350000    -0.690000     0.000000  \n",
       "50%       0.940000     0.620000     0.350000    -0.030000     1.000000  \n",
       "75%       1.960000     1.470000     1.072500     0.660000     2.000000  \n",
       "max       6.200000     5.280000     4.650000     4.010000     2.000000  \n",
       "\n",
       "[8 rows x 22 columns]"
      ]
     },
     "execution_count": 5,
     "metadata": {},
     "output_type": "execute_result"
    }
   ],
   "source": [
    "# useful info about ranges, etc.\n",
    "df.describe(include='all')"
   ]
  },
  {
   "cell_type": "code",
   "execution_count": 6,
   "metadata": {
    "colab": {
     "base_uri": "https://localhost:8080/"
    },
    "id": "G1pCcCTe9NBN",
    "outputId": "fc08b13d-1440-4faa-cd5a-1f95605edca8"
   },
   "outputs": [
    {
     "data": {
      "text/plain": [
       "Int64Index([0, 1, 2, 3, 4, 5, 6, 7, 8, 9, 10, 11, 12, 13, 14, 15, 16, 17, 18,\n",
       "            19, 20, 21],\n",
       "           dtype='int64')"
      ]
     },
     "execution_count": 6,
     "metadata": {},
     "output_type": "execute_result"
    }
   ],
   "source": [
    "# names of the columns (feature names)\n",
    "df.columns"
   ]
  },
  {
   "cell_type": "code",
   "execution_count": 7,
   "metadata": {
    "colab": {
     "base_uri": "https://localhost:8080/"
    },
    "id": "JG3Y8TY3_Rc0",
    "outputId": "7251a6e0-4dc8-44f3-ca64-f4f4d3cf9118"
   },
   "outputs": [
    {
     "name": "stdout",
     "output_type": "stream",
     "text": [
      "<class 'pandas.core.frame.DataFrame'>\n",
      "RangeIndex: 5000 entries, 0 to 4999\n",
      "Data columns (total 22 columns):\n",
      " #   Column  Non-Null Count  Dtype  \n",
      "---  ------  --------------  -----  \n",
      " 0   0       5000 non-null   float64\n",
      " 1   1       5000 non-null   float64\n",
      " 2   2       5000 non-null   float64\n",
      " 3   3       5000 non-null   float64\n",
      " 4   4       5000 non-null   float64\n",
      " 5   5       5000 non-null   float64\n",
      " 6   6       5000 non-null   float64\n",
      " 7   7       5000 non-null   float64\n",
      " 8   8       5000 non-null   float64\n",
      " 9   9       5000 non-null   float64\n",
      " 10  10      5000 non-null   float64\n",
      " 11  11      5000 non-null   float64\n",
      " 12  12      5000 non-null   float64\n",
      " 13  13      5000 non-null   float64\n",
      " 14  14      5000 non-null   float64\n",
      " 15  15      5000 non-null   float64\n",
      " 16  16      5000 non-null   float64\n",
      " 17  17      5000 non-null   float64\n",
      " 18  18      5000 non-null   float64\n",
      " 19  19      5000 non-null   float64\n",
      " 20  20      5000 non-null   float64\n",
      " 21  21      5000 non-null   int64  \n",
      "dtypes: float64(21), int64(1)\n",
      "memory usage: 859.5 KB\n"
     ]
    }
   ],
   "source": [
    "df.info()"
   ]
  },
  {
   "cell_type": "code",
   "execution_count": 8,
   "metadata": {
    "colab": {
     "base_uri": "https://localhost:8080/"
    },
    "id": "xqYFqw3t_R0_",
    "outputId": "3673c624-1372-4984-931f-075b897c9842"
   },
   "outputs": [
    {
     "data": {
      "text/plain": [
       "0     float64\n",
       "1     float64\n",
       "2     float64\n",
       "3     float64\n",
       "4     float64\n",
       "5     float64\n",
       "6     float64\n",
       "7     float64\n",
       "8     float64\n",
       "9     float64\n",
       "10    float64\n",
       "11    float64\n",
       "12    float64\n",
       "13    float64\n",
       "14    float64\n",
       "15    float64\n",
       "16    float64\n",
       "17    float64\n",
       "18    float64\n",
       "19    float64\n",
       "20    float64\n",
       "21      int64\n",
       "dtype: object"
      ]
     },
     "execution_count": 8,
     "metadata": {},
     "output_type": "execute_result"
    }
   ],
   "source": [
    "df.dtypes"
   ]
  },
  {
   "cell_type": "code",
   "execution_count": 9,
   "metadata": {
    "colab": {
     "base_uri": "https://localhost:8080/"
    },
    "id": "-POlWWe_ADYX",
    "outputId": "a4eaed7d-4146-4216-c5e2-5d5f0932ee1a"
   },
   "outputs": [
    {
     "data": {
      "text/plain": [
       "0      -1.23\n",
       "1      -0.69\n",
       "2      -0.12\n",
       "3       0.86\n",
       "4       1.16\n",
       "        ... \n",
       "4995   -0.65\n",
       "4996   -0.02\n",
       "4997    0.01\n",
       "4998   -0.40\n",
       "4999    0.63\n",
       "Name: 0, Length: 5000, dtype: float64"
      ]
     },
     "execution_count": 9,
     "metadata": {},
     "output_type": "execute_result"
    }
   ],
   "source": [
    "# fetches feature 0\n",
    "df[0]"
   ]
  },
  {
   "cell_type": "code",
   "execution_count": 10,
   "metadata": {
    "colab": {
     "base_uri": "https://localhost:8080/"
    },
    "id": "uRHUruAgAPBp",
    "outputId": "e8f81357-ebfc-4ef8-d363-aa93f8e4121b"
   },
   "outputs": [
    {
     "data": {
      "text/html": [
       "<div>\n",
       "<style scoped>\n",
       "    .dataframe tbody tr th:only-of-type {\n",
       "        vertical-align: middle;\n",
       "    }\n",
       "\n",
       "    .dataframe tbody tr th {\n",
       "        vertical-align: top;\n",
       "    }\n",
       "\n",
       "    .dataframe thead th {\n",
       "        text-align: right;\n",
       "    }\n",
       "</style>\n",
       "<table border=\"1\" class=\"dataframe\">\n",
       "  <thead>\n",
       "    <tr style=\"text-align: right;\">\n",
       "      <th></th>\n",
       "      <th>0</th>\n",
       "      <th>5</th>\n",
       "    </tr>\n",
       "  </thead>\n",
       "  <tbody>\n",
       "    <tr>\n",
       "      <th>0</th>\n",
       "      <td>-1.23</td>\n",
       "      <td>2.22</td>\n",
       "    </tr>\n",
       "    <tr>\n",
       "      <th>1</th>\n",
       "      <td>-0.69</td>\n",
       "      <td>3.25</td>\n",
       "    </tr>\n",
       "    <tr>\n",
       "      <th>2</th>\n",
       "      <td>-0.12</td>\n",
       "      <td>3.55</td>\n",
       "    </tr>\n",
       "    <tr>\n",
       "      <th>3</th>\n",
       "      <td>0.86</td>\n",
       "      <td>2.51</td>\n",
       "    </tr>\n",
       "    <tr>\n",
       "      <th>4</th>\n",
       "      <td>1.16</td>\n",
       "      <td>1.00</td>\n",
       "    </tr>\n",
       "    <tr>\n",
       "      <th>...</th>\n",
       "      <td>...</td>\n",
       "      <td>...</td>\n",
       "    </tr>\n",
       "    <tr>\n",
       "      <th>4995</th>\n",
       "      <td>-0.65</td>\n",
       "      <td>0.26</td>\n",
       "    </tr>\n",
       "    <tr>\n",
       "      <th>4996</th>\n",
       "      <td>-0.02</td>\n",
       "      <td>4.77</td>\n",
       "    </tr>\n",
       "    <tr>\n",
       "      <th>4997</th>\n",
       "      <td>0.01</td>\n",
       "      <td>1.93</td>\n",
       "    </tr>\n",
       "    <tr>\n",
       "      <th>4998</th>\n",
       "      <td>-0.40</td>\n",
       "      <td>-0.66</td>\n",
       "    </tr>\n",
       "    <tr>\n",
       "      <th>4999</th>\n",
       "      <td>0.63</td>\n",
       "      <td>3.22</td>\n",
       "    </tr>\n",
       "  </tbody>\n",
       "</table>\n",
       "<p>5000 rows × 2 columns</p>\n",
       "</div>"
      ],
      "text/plain": [
       "         0     5\n",
       "0    -1.23  2.22\n",
       "1    -0.69  3.25\n",
       "2    -0.12  3.55\n",
       "3     0.86  2.51\n",
       "4     1.16  1.00\n",
       "...    ...   ...\n",
       "4995 -0.65  0.26\n",
       "4996 -0.02  4.77\n",
       "4997  0.01  1.93\n",
       "4998 -0.40 -0.66\n",
       "4999  0.63  3.22\n",
       "\n",
       "[5000 rows x 2 columns]"
      ]
     },
     "execution_count": 10,
     "metadata": {},
     "output_type": "execute_result"
    }
   ],
   "source": [
    "# feature 0 and 5\n",
    "df[[0,5]]"
   ]
  },
  {
   "cell_type": "code",
   "execution_count": 11,
   "metadata": {
    "colab": {
     "base_uri": "https://localhost:8080/"
    },
    "id": "9ECiG1u6BW2o",
    "outputId": "2e764b69-3e0d-4870-fa96-bba5538f5da4"
   },
   "outputs": [
    {
     "data": {
      "text/plain": [
       "array([2, 1, 0])"
      ]
     },
     "execution_count": 11,
     "metadata": {},
     "output_type": "execute_result"
    }
   ],
   "source": [
    "# feature 21 is label\n",
    "df[21].unique()"
   ]
  },
  {
   "cell_type": "code",
   "execution_count": 12,
   "metadata": {
    "colab": {
     "base_uri": "https://localhost:8080/"
    },
    "id": "kmfLuqgQBNm8",
    "outputId": "b2282626-9349-417d-861f-53cf3d1bd736"
   },
   "outputs": [
    {
     "data": {
      "text/plain": [
       "2    0.3392\n",
       "0    0.3314\n",
       "1    0.3294\n",
       "Name: 21, dtype: float64"
      ]
     },
     "execution_count": 12,
     "metadata": {},
     "output_type": "execute_result"
    }
   ],
   "source": [
    "# percentage of each class\n",
    "(df[21].value_counts())/5000"
   ]
  },
  {
   "cell_type": "code",
   "execution_count": 13,
   "metadata": {
    "colab": {
     "base_uri": "https://localhost:8080/"
    },
    "id": "6CQyAnVQBaAq",
    "outputId": "9662aafe-994d-44db-cace-62b62f915ba3"
   },
   "outputs": [
    {
     "data": {
      "text/plain": [
       "0        True\n",
       "1       False\n",
       "2       False\n",
       "3       False\n",
       "4       False\n",
       "        ...  \n",
       "4995    False\n",
       "4996    False\n",
       "4997    False\n",
       "4998    False\n",
       "4999    False\n",
       "Name: 21, Length: 5000, dtype: bool"
      ]
     },
     "execution_count": 13,
     "metadata": {},
     "output_type": "execute_result"
    }
   ],
   "source": [
    "# find all examples where label == 2\n",
    "df[21] == 2"
   ]
  },
  {
   "cell_type": "code",
   "execution_count": 14,
   "metadata": {
    "colab": {
     "base_uri": "https://localhost:8080/"
    },
    "id": "yXofqhWLBlNI",
    "outputId": "a4960dec-2812-41e1-aa70-f57fbe6673ad"
   },
   "outputs": [
    {
     "data": {
      "text/html": [
       "<div>\n",
       "<style scoped>\n",
       "    .dataframe tbody tr th:only-of-type {\n",
       "        vertical-align: middle;\n",
       "    }\n",
       "\n",
       "    .dataframe tbody tr th {\n",
       "        vertical-align: top;\n",
       "    }\n",
       "\n",
       "    .dataframe thead th {\n",
       "        text-align: right;\n",
       "    }\n",
       "</style>\n",
       "<table border=\"1\" class=\"dataframe\">\n",
       "  <thead>\n",
       "    <tr style=\"text-align: right;\">\n",
       "      <th></th>\n",
       "      <th>0</th>\n",
       "      <th>1</th>\n",
       "      <th>2</th>\n",
       "      <th>3</th>\n",
       "      <th>4</th>\n",
       "      <th>5</th>\n",
       "      <th>6</th>\n",
       "      <th>7</th>\n",
       "      <th>8</th>\n",
       "      <th>9</th>\n",
       "      <th>...</th>\n",
       "      <th>12</th>\n",
       "      <th>13</th>\n",
       "      <th>14</th>\n",
       "      <th>15</th>\n",
       "      <th>16</th>\n",
       "      <th>17</th>\n",
       "      <th>18</th>\n",
       "      <th>19</th>\n",
       "      <th>20</th>\n",
       "      <th>21</th>\n",
       "    </tr>\n",
       "  </thead>\n",
       "  <tbody>\n",
       "    <tr>\n",
       "      <th>0</th>\n",
       "      <td>-1.23</td>\n",
       "      <td>-1.56</td>\n",
       "      <td>-1.75</td>\n",
       "      <td>-0.28</td>\n",
       "      <td>0.60</td>\n",
       "      <td>2.22</td>\n",
       "      <td>0.85</td>\n",
       "      <td>0.21</td>\n",
       "      <td>-0.20</td>\n",
       "      <td>0.89</td>\n",
       "      <td>...</td>\n",
       "      <td>2.89</td>\n",
       "      <td>7.75</td>\n",
       "      <td>4.59</td>\n",
       "      <td>3.15</td>\n",
       "      <td>5.12</td>\n",
       "      <td>3.32</td>\n",
       "      <td>1.20</td>\n",
       "      <td>0.24</td>\n",
       "      <td>-0.56</td>\n",
       "      <td>2</td>\n",
       "    </tr>\n",
       "    <tr>\n",
       "      <th>5</th>\n",
       "      <td>-0.00</td>\n",
       "      <td>0.77</td>\n",
       "      <td>1.32</td>\n",
       "      <td>0.29</td>\n",
       "      <td>-1.28</td>\n",
       "      <td>0.84</td>\n",
       "      <td>1.60</td>\n",
       "      <td>1.55</td>\n",
       "      <td>2.93</td>\n",
       "      <td>4.76</td>\n",
       "      <td>...</td>\n",
       "      <td>4.89</td>\n",
       "      <td>2.81</td>\n",
       "      <td>2.37</td>\n",
       "      <td>3.68</td>\n",
       "      <td>-0.98</td>\n",
       "      <td>0.69</td>\n",
       "      <td>0.91</td>\n",
       "      <td>-1.80</td>\n",
       "      <td>0.39</td>\n",
       "      <td>2</td>\n",
       "    </tr>\n",
       "    <tr>\n",
       "      <th>7</th>\n",
       "      <td>-0.22</td>\n",
       "      <td>-0.91</td>\n",
       "      <td>-1.18</td>\n",
       "      <td>0.35</td>\n",
       "      <td>-1.92</td>\n",
       "      <td>-1.59</td>\n",
       "      <td>1.91</td>\n",
       "      <td>0.75</td>\n",
       "      <td>1.72</td>\n",
       "      <td>2.02</td>\n",
       "      <td>...</td>\n",
       "      <td>2.73</td>\n",
       "      <td>4.29</td>\n",
       "      <td>4.89</td>\n",
       "      <td>2.04</td>\n",
       "      <td>1.13</td>\n",
       "      <td>-0.66</td>\n",
       "      <td>-1.33</td>\n",
       "      <td>0.41</td>\n",
       "      <td>-0.75</td>\n",
       "      <td>2</td>\n",
       "    </tr>\n",
       "    <tr>\n",
       "      <th>8</th>\n",
       "      <td>-1.11</td>\n",
       "      <td>-1.14</td>\n",
       "      <td>-0.89</td>\n",
       "      <td>0.00</td>\n",
       "      <td>0.53</td>\n",
       "      <td>0.44</td>\n",
       "      <td>0.24</td>\n",
       "      <td>2.15</td>\n",
       "      <td>1.64</td>\n",
       "      <td>1.75</td>\n",
       "      <td>...</td>\n",
       "      <td>3.39</td>\n",
       "      <td>4.24</td>\n",
       "      <td>3.81</td>\n",
       "      <td>4.56</td>\n",
       "      <td>3.18</td>\n",
       "      <td>1.51</td>\n",
       "      <td>2.90</td>\n",
       "      <td>0.14</td>\n",
       "      <td>-0.12</td>\n",
       "      <td>2</td>\n",
       "    </tr>\n",
       "    <tr>\n",
       "      <th>9</th>\n",
       "      <td>-0.75</td>\n",
       "      <td>1.10</td>\n",
       "      <td>-1.90</td>\n",
       "      <td>1.43</td>\n",
       "      <td>0.47</td>\n",
       "      <td>0.40</td>\n",
       "      <td>0.86</td>\n",
       "      <td>3.51</td>\n",
       "      <td>2.62</td>\n",
       "      <td>4.50</td>\n",
       "      <td>...</td>\n",
       "      <td>0.75</td>\n",
       "      <td>3.23</td>\n",
       "      <td>1.08</td>\n",
       "      <td>-0.25</td>\n",
       "      <td>0.73</td>\n",
       "      <td>-0.41</td>\n",
       "      <td>-1.50</td>\n",
       "      <td>0.46</td>\n",
       "      <td>1.47</td>\n",
       "      <td>2</td>\n",
       "    </tr>\n",
       "    <tr>\n",
       "      <th>...</th>\n",
       "      <td>...</td>\n",
       "      <td>...</td>\n",
       "      <td>...</td>\n",
       "      <td>...</td>\n",
       "      <td>...</td>\n",
       "      <td>...</td>\n",
       "      <td>...</td>\n",
       "      <td>...</td>\n",
       "      <td>...</td>\n",
       "      <td>...</td>\n",
       "      <td>...</td>\n",
       "      <td>...</td>\n",
       "      <td>...</td>\n",
       "      <td>...</td>\n",
       "      <td>...</td>\n",
       "      <td>...</td>\n",
       "      <td>...</td>\n",
       "      <td>...</td>\n",
       "      <td>...</td>\n",
       "      <td>...</td>\n",
       "      <td>...</td>\n",
       "    </tr>\n",
       "    <tr>\n",
       "      <th>4984</th>\n",
       "      <td>-1.35</td>\n",
       "      <td>0.49</td>\n",
       "      <td>-1.21</td>\n",
       "      <td>0.59</td>\n",
       "      <td>-0.41</td>\n",
       "      <td>0.59</td>\n",
       "      <td>-0.69</td>\n",
       "      <td>0.81</td>\n",
       "      <td>2.00</td>\n",
       "      <td>1.92</td>\n",
       "      <td>...</td>\n",
       "      <td>4.68</td>\n",
       "      <td>4.24</td>\n",
       "      <td>3.66</td>\n",
       "      <td>4.50</td>\n",
       "      <td>3.07</td>\n",
       "      <td>2.72</td>\n",
       "      <td>1.85</td>\n",
       "      <td>0.39</td>\n",
       "      <td>0.54</td>\n",
       "      <td>2</td>\n",
       "    </tr>\n",
       "    <tr>\n",
       "      <th>4987</th>\n",
       "      <td>0.36</td>\n",
       "      <td>1.27</td>\n",
       "      <td>0.02</td>\n",
       "      <td>0.84</td>\n",
       "      <td>0.33</td>\n",
       "      <td>0.15</td>\n",
       "      <td>0.42</td>\n",
       "      <td>2.17</td>\n",
       "      <td>2.41</td>\n",
       "      <td>4.38</td>\n",
       "      <td>...</td>\n",
       "      <td>3.69</td>\n",
       "      <td>2.92</td>\n",
       "      <td>3.82</td>\n",
       "      <td>2.50</td>\n",
       "      <td>1.12</td>\n",
       "      <td>-0.00</td>\n",
       "      <td>-0.67</td>\n",
       "      <td>-0.53</td>\n",
       "      <td>-0.87</td>\n",
       "      <td>2</td>\n",
       "    </tr>\n",
       "    <tr>\n",
       "      <th>4989</th>\n",
       "      <td>0.10</td>\n",
       "      <td>-0.55</td>\n",
       "      <td>0.82</td>\n",
       "      <td>0.93</td>\n",
       "      <td>0.14</td>\n",
       "      <td>0.80</td>\n",
       "      <td>2.19</td>\n",
       "      <td>1.62</td>\n",
       "      <td>2.33</td>\n",
       "      <td>4.60</td>\n",
       "      <td>...</td>\n",
       "      <td>4.41</td>\n",
       "      <td>3.95</td>\n",
       "      <td>4.34</td>\n",
       "      <td>2.73</td>\n",
       "      <td>1.52</td>\n",
       "      <td>2.19</td>\n",
       "      <td>1.53</td>\n",
       "      <td>2.60</td>\n",
       "      <td>-0.39</td>\n",
       "      <td>2</td>\n",
       "    </tr>\n",
       "    <tr>\n",
       "      <th>4993</th>\n",
       "      <td>-0.52</td>\n",
       "      <td>-0.27</td>\n",
       "      <td>0.04</td>\n",
       "      <td>0.91</td>\n",
       "      <td>-0.04</td>\n",
       "      <td>-1.33</td>\n",
       "      <td>1.60</td>\n",
       "      <td>2.34</td>\n",
       "      <td>0.82</td>\n",
       "      <td>2.57</td>\n",
       "      <td>...</td>\n",
       "      <td>5.08</td>\n",
       "      <td>3.87</td>\n",
       "      <td>5.38</td>\n",
       "      <td>6.00</td>\n",
       "      <td>1.06</td>\n",
       "      <td>1.28</td>\n",
       "      <td>0.93</td>\n",
       "      <td>1.78</td>\n",
       "      <td>0.67</td>\n",
       "      <td>2</td>\n",
       "    </tr>\n",
       "    <tr>\n",
       "      <th>4994</th>\n",
       "      <td>-0.10</td>\n",
       "      <td>0.71</td>\n",
       "      <td>-0.62</td>\n",
       "      <td>1.18</td>\n",
       "      <td>0.02</td>\n",
       "      <td>0.32</td>\n",
       "      <td>0.19</td>\n",
       "      <td>0.69</td>\n",
       "      <td>2.17</td>\n",
       "      <td>2.41</td>\n",
       "      <td>...</td>\n",
       "      <td>4.76</td>\n",
       "      <td>5.70</td>\n",
       "      <td>4.18</td>\n",
       "      <td>5.06</td>\n",
       "      <td>1.31</td>\n",
       "      <td>3.98</td>\n",
       "      <td>0.98</td>\n",
       "      <td>0.48</td>\n",
       "      <td>-2.68</td>\n",
       "      <td>2</td>\n",
       "    </tr>\n",
       "  </tbody>\n",
       "</table>\n",
       "<p>1696 rows × 22 columns</p>\n",
       "</div>"
      ],
      "text/plain": [
       "        0     1     2     3     4     5     6     7     8     9   ...    12  \\\n",
       "0    -1.23 -1.56 -1.75 -0.28  0.60  2.22  0.85  0.21 -0.20  0.89  ...  2.89   \n",
       "5    -0.00  0.77  1.32  0.29 -1.28  0.84  1.60  1.55  2.93  4.76  ...  4.89   \n",
       "7    -0.22 -0.91 -1.18  0.35 -1.92 -1.59  1.91  0.75  1.72  2.02  ...  2.73   \n",
       "8    -1.11 -1.14 -0.89  0.00  0.53  0.44  0.24  2.15  1.64  1.75  ...  3.39   \n",
       "9    -0.75  1.10 -1.90  1.43  0.47  0.40  0.86  3.51  2.62  4.50  ...  0.75   \n",
       "...    ...   ...   ...   ...   ...   ...   ...   ...   ...   ...  ...   ...   \n",
       "4984 -1.35  0.49 -1.21  0.59 -0.41  0.59 -0.69  0.81  2.00  1.92  ...  4.68   \n",
       "4987  0.36  1.27  0.02  0.84  0.33  0.15  0.42  2.17  2.41  4.38  ...  3.69   \n",
       "4989  0.10 -0.55  0.82  0.93  0.14  0.80  2.19  1.62  2.33  4.60  ...  4.41   \n",
       "4993 -0.52 -0.27  0.04  0.91 -0.04 -1.33  1.60  2.34  0.82  2.57  ...  5.08   \n",
       "4994 -0.10  0.71 -0.62  1.18  0.02  0.32  0.19  0.69  2.17  2.41  ...  4.76   \n",
       "\n",
       "        13    14    15    16    17    18    19    20  21  \n",
       "0     7.75  4.59  3.15  5.12  3.32  1.20  0.24 -0.56   2  \n",
       "5     2.81  2.37  3.68 -0.98  0.69  0.91 -1.80  0.39   2  \n",
       "7     4.29  4.89  2.04  1.13 -0.66 -1.33  0.41 -0.75   2  \n",
       "8     4.24  3.81  4.56  3.18  1.51  2.90  0.14 -0.12   2  \n",
       "9     3.23  1.08 -0.25  0.73 -0.41 -1.50  0.46  1.47   2  \n",
       "...    ...   ...   ...   ...   ...   ...   ...   ...  ..  \n",
       "4984  4.24  3.66  4.50  3.07  2.72  1.85  0.39  0.54   2  \n",
       "4987  2.92  3.82  2.50  1.12 -0.00 -0.67 -0.53 -0.87   2  \n",
       "4989  3.95  4.34  2.73  1.52  2.19  1.53  2.60 -0.39   2  \n",
       "4993  3.87  5.38  6.00  1.06  1.28  0.93  1.78  0.67   2  \n",
       "4994  5.70  4.18  5.06  1.31  3.98  0.98  0.48 -2.68   2  \n",
       "\n",
       "[1696 rows x 22 columns]"
      ]
     },
     "execution_count": 14,
     "metadata": {},
     "output_type": "execute_result"
    }
   ],
   "source": [
    "df[df[21] == 2]"
   ]
  },
  {
   "cell_type": "code",
   "execution_count": 15,
   "metadata": {
    "colab": {
     "base_uri": "https://localhost:8080/"
    },
    "id": "CREi7TNzBnX8",
    "outputId": "f61f50d4-76ae-4b8c-bccf-58f20634ccee"
   },
   "outputs": [
    {
     "data": {
      "text/html": [
       "<div>\n",
       "<style scoped>\n",
       "    .dataframe tbody tr th:only-of-type {\n",
       "        vertical-align: middle;\n",
       "    }\n",
       "\n",
       "    .dataframe tbody tr th {\n",
       "        vertical-align: top;\n",
       "    }\n",
       "\n",
       "    .dataframe thead th {\n",
       "        text-align: right;\n",
       "    }\n",
       "</style>\n",
       "<table border=\"1\" class=\"dataframe\">\n",
       "  <thead>\n",
       "    <tr style=\"text-align: right;\">\n",
       "      <th></th>\n",
       "      <th>0</th>\n",
       "      <th>1</th>\n",
       "      <th>2</th>\n",
       "      <th>3</th>\n",
       "      <th>4</th>\n",
       "      <th>5</th>\n",
       "      <th>6</th>\n",
       "      <th>7</th>\n",
       "      <th>8</th>\n",
       "      <th>9</th>\n",
       "      <th>...</th>\n",
       "      <th>12</th>\n",
       "      <th>13</th>\n",
       "      <th>14</th>\n",
       "      <th>15</th>\n",
       "      <th>16</th>\n",
       "      <th>17</th>\n",
       "      <th>18</th>\n",
       "      <th>19</th>\n",
       "      <th>20</th>\n",
       "      <th>21</th>\n",
       "    </tr>\n",
       "  </thead>\n",
       "  <tbody>\n",
       "    <tr>\n",
       "      <th>0</th>\n",
       "      <td>-1.23</td>\n",
       "      <td>-1.56</td>\n",
       "      <td>-1.75</td>\n",
       "      <td>-0.28</td>\n",
       "      <td>0.60</td>\n",
       "      <td>2.22</td>\n",
       "      <td>0.85</td>\n",
       "      <td>0.21</td>\n",
       "      <td>-0.20</td>\n",
       "      <td>0.89</td>\n",
       "      <td>...</td>\n",
       "      <td>2.89</td>\n",
       "      <td>7.75</td>\n",
       "      <td>4.59</td>\n",
       "      <td>3.15</td>\n",
       "      <td>5.12</td>\n",
       "      <td>3.32</td>\n",
       "      <td>1.20</td>\n",
       "      <td>0.24</td>\n",
       "      <td>-0.56</td>\n",
       "      <td>2</td>\n",
       "    </tr>\n",
       "    <tr>\n",
       "      <th>3</th>\n",
       "      <td>0.86</td>\n",
       "      <td>0.29</td>\n",
       "      <td>2.19</td>\n",
       "      <td>-0.02</td>\n",
       "      <td>1.13</td>\n",
       "      <td>2.51</td>\n",
       "      <td>2.37</td>\n",
       "      <td>5.45</td>\n",
       "      <td>5.45</td>\n",
       "      <td>4.84</td>\n",
       "      <td>...</td>\n",
       "      <td>2.58</td>\n",
       "      <td>1.40</td>\n",
       "      <td>1.24</td>\n",
       "      <td>1.41</td>\n",
       "      <td>1.07</td>\n",
       "      <td>-1.43</td>\n",
       "      <td>2.84</td>\n",
       "      <td>-1.18</td>\n",
       "      <td>1.12</td>\n",
       "      <td>1</td>\n",
       "    </tr>\n",
       "    <tr>\n",
       "      <th>4</th>\n",
       "      <td>1.16</td>\n",
       "      <td>0.37</td>\n",
       "      <td>0.40</td>\n",
       "      <td>-0.59</td>\n",
       "      <td>2.66</td>\n",
       "      <td>1.00</td>\n",
       "      <td>2.69</td>\n",
       "      <td>4.06</td>\n",
       "      <td>5.34</td>\n",
       "      <td>3.53</td>\n",
       "      <td>...</td>\n",
       "      <td>4.30</td>\n",
       "      <td>1.84</td>\n",
       "      <td>1.73</td>\n",
       "      <td>0.21</td>\n",
       "      <td>-0.18</td>\n",
       "      <td>0.13</td>\n",
       "      <td>-0.21</td>\n",
       "      <td>-0.80</td>\n",
       "      <td>-0.68</td>\n",
       "      <td>1</td>\n",
       "    </tr>\n",
       "    <tr>\n",
       "      <th>5</th>\n",
       "      <td>-0.00</td>\n",
       "      <td>0.77</td>\n",
       "      <td>1.32</td>\n",
       "      <td>0.29</td>\n",
       "      <td>-1.28</td>\n",
       "      <td>0.84</td>\n",
       "      <td>1.60</td>\n",
       "      <td>1.55</td>\n",
       "      <td>2.93</td>\n",
       "      <td>4.76</td>\n",
       "      <td>...</td>\n",
       "      <td>4.89</td>\n",
       "      <td>2.81</td>\n",
       "      <td>2.37</td>\n",
       "      <td>3.68</td>\n",
       "      <td>-0.98</td>\n",
       "      <td>0.69</td>\n",
       "      <td>0.91</td>\n",
       "      <td>-1.80</td>\n",
       "      <td>0.39</td>\n",
       "      <td>2</td>\n",
       "    </tr>\n",
       "    <tr>\n",
       "      <th>7</th>\n",
       "      <td>-0.22</td>\n",
       "      <td>-0.91</td>\n",
       "      <td>-1.18</td>\n",
       "      <td>0.35</td>\n",
       "      <td>-1.92</td>\n",
       "      <td>-1.59</td>\n",
       "      <td>1.91</td>\n",
       "      <td>0.75</td>\n",
       "      <td>1.72</td>\n",
       "      <td>2.02</td>\n",
       "      <td>...</td>\n",
       "      <td>2.73</td>\n",
       "      <td>4.29</td>\n",
       "      <td>4.89</td>\n",
       "      <td>2.04</td>\n",
       "      <td>1.13</td>\n",
       "      <td>-0.66</td>\n",
       "      <td>-1.33</td>\n",
       "      <td>0.41</td>\n",
       "      <td>-0.75</td>\n",
       "      <td>2</td>\n",
       "    </tr>\n",
       "    <tr>\n",
       "      <th>...</th>\n",
       "      <td>...</td>\n",
       "      <td>...</td>\n",
       "      <td>...</td>\n",
       "      <td>...</td>\n",
       "      <td>...</td>\n",
       "      <td>...</td>\n",
       "      <td>...</td>\n",
       "      <td>...</td>\n",
       "      <td>...</td>\n",
       "      <td>...</td>\n",
       "      <td>...</td>\n",
       "      <td>...</td>\n",
       "      <td>...</td>\n",
       "      <td>...</td>\n",
       "      <td>...</td>\n",
       "      <td>...</td>\n",
       "      <td>...</td>\n",
       "      <td>...</td>\n",
       "      <td>...</td>\n",
       "      <td>...</td>\n",
       "      <td>...</td>\n",
       "    </tr>\n",
       "    <tr>\n",
       "      <th>4981</th>\n",
       "      <td>-1.07</td>\n",
       "      <td>0.68</td>\n",
       "      <td>0.65</td>\n",
       "      <td>-0.81</td>\n",
       "      <td>-0.73</td>\n",
       "      <td>0.86</td>\n",
       "      <td>-0.17</td>\n",
       "      <td>0.51</td>\n",
       "      <td>-0.03</td>\n",
       "      <td>1.63</td>\n",
       "      <td>...</td>\n",
       "      <td>3.64</td>\n",
       "      <td>5.12</td>\n",
       "      <td>4.94</td>\n",
       "      <td>4.10</td>\n",
       "      <td>2.90</td>\n",
       "      <td>1.78</td>\n",
       "      <td>0.80</td>\n",
       "      <td>0.60</td>\n",
       "      <td>-0.95</td>\n",
       "      <td>0</td>\n",
       "    </tr>\n",
       "    <tr>\n",
       "      <th>4983</th>\n",
       "      <td>-1.69</td>\n",
       "      <td>0.50</td>\n",
       "      <td>-0.02</td>\n",
       "      <td>-2.79</td>\n",
       "      <td>1.37</td>\n",
       "      <td>0.27</td>\n",
       "      <td>0.88</td>\n",
       "      <td>2.72</td>\n",
       "      <td>1.77</td>\n",
       "      <td>2.59</td>\n",
       "      <td>...</td>\n",
       "      <td>3.00</td>\n",
       "      <td>6.69</td>\n",
       "      <td>5.43</td>\n",
       "      <td>4.54</td>\n",
       "      <td>2.88</td>\n",
       "      <td>0.58</td>\n",
       "      <td>2.36</td>\n",
       "      <td>0.68</td>\n",
       "      <td>-0.15</td>\n",
       "      <td>2</td>\n",
       "    </tr>\n",
       "    <tr>\n",
       "      <th>4986</th>\n",
       "      <td>0.87</td>\n",
       "      <td>0.07</td>\n",
       "      <td>1.32</td>\n",
       "      <td>-0.05</td>\n",
       "      <td>0.95</td>\n",
       "      <td>0.35</td>\n",
       "      <td>2.22</td>\n",
       "      <td>6.05</td>\n",
       "      <td>3.00</td>\n",
       "      <td>6.16</td>\n",
       "      <td>...</td>\n",
       "      <td>2.59</td>\n",
       "      <td>3.02</td>\n",
       "      <td>1.34</td>\n",
       "      <td>1.88</td>\n",
       "      <td>0.76</td>\n",
       "      <td>-1.41</td>\n",
       "      <td>1.58</td>\n",
       "      <td>1.32</td>\n",
       "      <td>-0.91</td>\n",
       "      <td>1</td>\n",
       "    </tr>\n",
       "    <tr>\n",
       "      <th>4988</th>\n",
       "      <td>0.20</td>\n",
       "      <td>2.55</td>\n",
       "      <td>-0.28</td>\n",
       "      <td>0.23</td>\n",
       "      <td>0.54</td>\n",
       "      <td>-0.05</td>\n",
       "      <td>1.13</td>\n",
       "      <td>-1.04</td>\n",
       "      <td>1.75</td>\n",
       "      <td>1.41</td>\n",
       "      <td>...</td>\n",
       "      <td>4.99</td>\n",
       "      <td>5.85</td>\n",
       "      <td>6.58</td>\n",
       "      <td>4.65</td>\n",
       "      <td>3.86</td>\n",
       "      <td>3.18</td>\n",
       "      <td>1.44</td>\n",
       "      <td>1.61</td>\n",
       "      <td>0.10</td>\n",
       "      <td>0</td>\n",
       "    </tr>\n",
       "    <tr>\n",
       "      <th>4995</th>\n",
       "      <td>-0.65</td>\n",
       "      <td>0.69</td>\n",
       "      <td>2.29</td>\n",
       "      <td>-0.16</td>\n",
       "      <td>0.51</td>\n",
       "      <td>0.26</td>\n",
       "      <td>2.34</td>\n",
       "      <td>-0.42</td>\n",
       "      <td>0.49</td>\n",
       "      <td>0.31</td>\n",
       "      <td>...</td>\n",
       "      <td>3.46</td>\n",
       "      <td>4.81</td>\n",
       "      <td>5.49</td>\n",
       "      <td>5.19</td>\n",
       "      <td>3.10</td>\n",
       "      <td>3.86</td>\n",
       "      <td>2.96</td>\n",
       "      <td>1.09</td>\n",
       "      <td>-1.42</td>\n",
       "      <td>0</td>\n",
       "    </tr>\n",
       "  </tbody>\n",
       "</table>\n",
       "<p>1912 rows × 22 columns</p>\n",
       "</div>"
      ],
      "text/plain": [
       "        0     1     2     3     4     5     6     7     8     9   ...    12  \\\n",
       "0    -1.23 -1.56 -1.75 -0.28  0.60  2.22  0.85  0.21 -0.20  0.89  ...  2.89   \n",
       "3     0.86  0.29  2.19 -0.02  1.13  2.51  2.37  5.45  5.45  4.84  ...  2.58   \n",
       "4     1.16  0.37  0.40 -0.59  2.66  1.00  2.69  4.06  5.34  3.53  ...  4.30   \n",
       "5    -0.00  0.77  1.32  0.29 -1.28  0.84  1.60  1.55  2.93  4.76  ...  4.89   \n",
       "7    -0.22 -0.91 -1.18  0.35 -1.92 -1.59  1.91  0.75  1.72  2.02  ...  2.73   \n",
       "...    ...   ...   ...   ...   ...   ...   ...   ...   ...   ...  ...   ...   \n",
       "4981 -1.07  0.68  0.65 -0.81 -0.73  0.86 -0.17  0.51 -0.03  1.63  ...  3.64   \n",
       "4983 -1.69  0.50 -0.02 -2.79  1.37  0.27  0.88  2.72  1.77  2.59  ...  3.00   \n",
       "4986  0.87  0.07  1.32 -0.05  0.95  0.35  2.22  6.05  3.00  6.16  ...  2.59   \n",
       "4988  0.20  2.55 -0.28  0.23  0.54 -0.05  1.13 -1.04  1.75  1.41  ...  4.99   \n",
       "4995 -0.65  0.69  2.29 -0.16  0.51  0.26  2.34 -0.42  0.49  0.31  ...  3.46   \n",
       "\n",
       "        13    14    15    16    17    18    19    20  21  \n",
       "0     7.75  4.59  3.15  5.12  3.32  1.20  0.24 -0.56   2  \n",
       "3     1.40  1.24  1.41  1.07 -1.43  2.84 -1.18  1.12   1  \n",
       "4     1.84  1.73  0.21 -0.18  0.13 -0.21 -0.80 -0.68   1  \n",
       "5     2.81  2.37  3.68 -0.98  0.69  0.91 -1.80  0.39   2  \n",
       "7     4.29  4.89  2.04  1.13 -0.66 -1.33  0.41 -0.75   2  \n",
       "...    ...   ...   ...   ...   ...   ...   ...   ...  ..  \n",
       "4981  5.12  4.94  4.10  2.90  1.78  0.80  0.60 -0.95   0  \n",
       "4983  6.69  5.43  4.54  2.88  0.58  2.36  0.68 -0.15   2  \n",
       "4986  3.02  1.34  1.88  0.76 -1.41  1.58  1.32 -0.91   1  \n",
       "4988  5.85  6.58  4.65  3.86  3.18  1.44  1.61  0.10   0  \n",
       "4995  4.81  5.49  5.19  3.10  3.86  2.96  1.09 -1.42   0  \n",
       "\n",
       "[1912 rows x 22 columns]"
      ]
     },
     "execution_count": 15,
     "metadata": {},
     "output_type": "execute_result"
    }
   ],
   "source": [
    "# remove all examples where label != 2\n",
    "df = df[df[3] < 0.5].copy()\n",
    "df"
   ]
  },
  {
   "cell_type": "code",
   "execution_count": 16,
   "metadata": {
    "colab": {
     "base_uri": "https://localhost:8080/"
    },
    "id": "UCNK3Y72EH5Q",
    "outputId": "340553de-e00e-4dbc-95eb-d1525cc55650"
   },
   "outputs": [
    {
     "data": {
      "text/html": [
       "<div>\n",
       "<style scoped>\n",
       "    .dataframe tbody tr th:only-of-type {\n",
       "        vertical-align: middle;\n",
       "    }\n",
       "\n",
       "    .dataframe tbody tr th {\n",
       "        vertical-align: top;\n",
       "    }\n",
       "\n",
       "    .dataframe thead th {\n",
       "        text-align: right;\n",
       "    }\n",
       "</style>\n",
       "<table border=\"1\" class=\"dataframe\">\n",
       "  <thead>\n",
       "    <tr style=\"text-align: right;\">\n",
       "      <th></th>\n",
       "      <th>0</th>\n",
       "      <th>1</th>\n",
       "      <th>2</th>\n",
       "      <th>3</th>\n",
       "      <th>4</th>\n",
       "      <th>5</th>\n",
       "      <th>6</th>\n",
       "      <th>7</th>\n",
       "      <th>8</th>\n",
       "      <th>9</th>\n",
       "      <th>...</th>\n",
       "      <th>12</th>\n",
       "      <th>13</th>\n",
       "      <th>14</th>\n",
       "      <th>15</th>\n",
       "      <th>16</th>\n",
       "      <th>17</th>\n",
       "      <th>18</th>\n",
       "      <th>19</th>\n",
       "      <th>20</th>\n",
       "      <th>21</th>\n",
       "    </tr>\n",
       "  </thead>\n",
       "  <tbody>\n",
       "    <tr>\n",
       "      <th>0</th>\n",
       "      <td>-1.23</td>\n",
       "      <td>-1.56</td>\n",
       "      <td>-1.75</td>\n",
       "      <td>-0.28</td>\n",
       "      <td>0.60</td>\n",
       "      <td>2.22</td>\n",
       "      <td>0.85</td>\n",
       "      <td>0.21</td>\n",
       "      <td>-0.20</td>\n",
       "      <td>0.89</td>\n",
       "      <td>...</td>\n",
       "      <td>2.89</td>\n",
       "      <td>7.75</td>\n",
       "      <td>4.59</td>\n",
       "      <td>3.15</td>\n",
       "      <td>5.12</td>\n",
       "      <td>3.32</td>\n",
       "      <td>1.20</td>\n",
       "      <td>0.24</td>\n",
       "      <td>-0.56</td>\n",
       "      <td>2</td>\n",
       "    </tr>\n",
       "    <tr>\n",
       "      <th>1</th>\n",
       "      <td>0.86</td>\n",
       "      <td>0.29</td>\n",
       "      <td>2.19</td>\n",
       "      <td>-0.02</td>\n",
       "      <td>1.13</td>\n",
       "      <td>2.51</td>\n",
       "      <td>2.37</td>\n",
       "      <td>5.45</td>\n",
       "      <td>5.45</td>\n",
       "      <td>4.84</td>\n",
       "      <td>...</td>\n",
       "      <td>2.58</td>\n",
       "      <td>1.40</td>\n",
       "      <td>1.24</td>\n",
       "      <td>1.41</td>\n",
       "      <td>1.07</td>\n",
       "      <td>-1.43</td>\n",
       "      <td>2.84</td>\n",
       "      <td>-1.18</td>\n",
       "      <td>1.12</td>\n",
       "      <td>1</td>\n",
       "    </tr>\n",
       "    <tr>\n",
       "      <th>2</th>\n",
       "      <td>1.16</td>\n",
       "      <td>0.37</td>\n",
       "      <td>0.40</td>\n",
       "      <td>-0.59</td>\n",
       "      <td>2.66</td>\n",
       "      <td>1.00</td>\n",
       "      <td>2.69</td>\n",
       "      <td>4.06</td>\n",
       "      <td>5.34</td>\n",
       "      <td>3.53</td>\n",
       "      <td>...</td>\n",
       "      <td>4.30</td>\n",
       "      <td>1.84</td>\n",
       "      <td>1.73</td>\n",
       "      <td>0.21</td>\n",
       "      <td>-0.18</td>\n",
       "      <td>0.13</td>\n",
       "      <td>-0.21</td>\n",
       "      <td>-0.80</td>\n",
       "      <td>-0.68</td>\n",
       "      <td>1</td>\n",
       "    </tr>\n",
       "    <tr>\n",
       "      <th>3</th>\n",
       "      <td>-0.00</td>\n",
       "      <td>0.77</td>\n",
       "      <td>1.32</td>\n",
       "      <td>0.29</td>\n",
       "      <td>-1.28</td>\n",
       "      <td>0.84</td>\n",
       "      <td>1.60</td>\n",
       "      <td>1.55</td>\n",
       "      <td>2.93</td>\n",
       "      <td>4.76</td>\n",
       "      <td>...</td>\n",
       "      <td>4.89</td>\n",
       "      <td>2.81</td>\n",
       "      <td>2.37</td>\n",
       "      <td>3.68</td>\n",
       "      <td>-0.98</td>\n",
       "      <td>0.69</td>\n",
       "      <td>0.91</td>\n",
       "      <td>-1.80</td>\n",
       "      <td>0.39</td>\n",
       "      <td>2</td>\n",
       "    </tr>\n",
       "    <tr>\n",
       "      <th>4</th>\n",
       "      <td>-0.22</td>\n",
       "      <td>-0.91</td>\n",
       "      <td>-1.18</td>\n",
       "      <td>0.35</td>\n",
       "      <td>-1.92</td>\n",
       "      <td>-1.59</td>\n",
       "      <td>1.91</td>\n",
       "      <td>0.75</td>\n",
       "      <td>1.72</td>\n",
       "      <td>2.02</td>\n",
       "      <td>...</td>\n",
       "      <td>2.73</td>\n",
       "      <td>4.29</td>\n",
       "      <td>4.89</td>\n",
       "      <td>2.04</td>\n",
       "      <td>1.13</td>\n",
       "      <td>-0.66</td>\n",
       "      <td>-1.33</td>\n",
       "      <td>0.41</td>\n",
       "      <td>-0.75</td>\n",
       "      <td>2</td>\n",
       "    </tr>\n",
       "    <tr>\n",
       "      <th>...</th>\n",
       "      <td>...</td>\n",
       "      <td>...</td>\n",
       "      <td>...</td>\n",
       "      <td>...</td>\n",
       "      <td>...</td>\n",
       "      <td>...</td>\n",
       "      <td>...</td>\n",
       "      <td>...</td>\n",
       "      <td>...</td>\n",
       "      <td>...</td>\n",
       "      <td>...</td>\n",
       "      <td>...</td>\n",
       "      <td>...</td>\n",
       "      <td>...</td>\n",
       "      <td>...</td>\n",
       "      <td>...</td>\n",
       "      <td>...</td>\n",
       "      <td>...</td>\n",
       "      <td>...</td>\n",
       "      <td>...</td>\n",
       "      <td>...</td>\n",
       "    </tr>\n",
       "    <tr>\n",
       "      <th>1907</th>\n",
       "      <td>-1.07</td>\n",
       "      <td>0.68</td>\n",
       "      <td>0.65</td>\n",
       "      <td>-0.81</td>\n",
       "      <td>-0.73</td>\n",
       "      <td>0.86</td>\n",
       "      <td>-0.17</td>\n",
       "      <td>0.51</td>\n",
       "      <td>-0.03</td>\n",
       "      <td>1.63</td>\n",
       "      <td>...</td>\n",
       "      <td>3.64</td>\n",
       "      <td>5.12</td>\n",
       "      <td>4.94</td>\n",
       "      <td>4.10</td>\n",
       "      <td>2.90</td>\n",
       "      <td>1.78</td>\n",
       "      <td>0.80</td>\n",
       "      <td>0.60</td>\n",
       "      <td>-0.95</td>\n",
       "      <td>0</td>\n",
       "    </tr>\n",
       "    <tr>\n",
       "      <th>1908</th>\n",
       "      <td>-1.69</td>\n",
       "      <td>0.50</td>\n",
       "      <td>-0.02</td>\n",
       "      <td>-2.79</td>\n",
       "      <td>1.37</td>\n",
       "      <td>0.27</td>\n",
       "      <td>0.88</td>\n",
       "      <td>2.72</td>\n",
       "      <td>1.77</td>\n",
       "      <td>2.59</td>\n",
       "      <td>...</td>\n",
       "      <td>3.00</td>\n",
       "      <td>6.69</td>\n",
       "      <td>5.43</td>\n",
       "      <td>4.54</td>\n",
       "      <td>2.88</td>\n",
       "      <td>0.58</td>\n",
       "      <td>2.36</td>\n",
       "      <td>0.68</td>\n",
       "      <td>-0.15</td>\n",
       "      <td>2</td>\n",
       "    </tr>\n",
       "    <tr>\n",
       "      <th>1909</th>\n",
       "      <td>0.87</td>\n",
       "      <td>0.07</td>\n",
       "      <td>1.32</td>\n",
       "      <td>-0.05</td>\n",
       "      <td>0.95</td>\n",
       "      <td>0.35</td>\n",
       "      <td>2.22</td>\n",
       "      <td>6.05</td>\n",
       "      <td>3.00</td>\n",
       "      <td>6.16</td>\n",
       "      <td>...</td>\n",
       "      <td>2.59</td>\n",
       "      <td>3.02</td>\n",
       "      <td>1.34</td>\n",
       "      <td>1.88</td>\n",
       "      <td>0.76</td>\n",
       "      <td>-1.41</td>\n",
       "      <td>1.58</td>\n",
       "      <td>1.32</td>\n",
       "      <td>-0.91</td>\n",
       "      <td>1</td>\n",
       "    </tr>\n",
       "    <tr>\n",
       "      <th>1910</th>\n",
       "      <td>0.20</td>\n",
       "      <td>2.55</td>\n",
       "      <td>-0.28</td>\n",
       "      <td>0.23</td>\n",
       "      <td>0.54</td>\n",
       "      <td>-0.05</td>\n",
       "      <td>1.13</td>\n",
       "      <td>-1.04</td>\n",
       "      <td>1.75</td>\n",
       "      <td>1.41</td>\n",
       "      <td>...</td>\n",
       "      <td>4.99</td>\n",
       "      <td>5.85</td>\n",
       "      <td>6.58</td>\n",
       "      <td>4.65</td>\n",
       "      <td>3.86</td>\n",
       "      <td>3.18</td>\n",
       "      <td>1.44</td>\n",
       "      <td>1.61</td>\n",
       "      <td>0.10</td>\n",
       "      <td>0</td>\n",
       "    </tr>\n",
       "    <tr>\n",
       "      <th>1911</th>\n",
       "      <td>-0.65</td>\n",
       "      <td>0.69</td>\n",
       "      <td>2.29</td>\n",
       "      <td>-0.16</td>\n",
       "      <td>0.51</td>\n",
       "      <td>0.26</td>\n",
       "      <td>2.34</td>\n",
       "      <td>-0.42</td>\n",
       "      <td>0.49</td>\n",
       "      <td>0.31</td>\n",
       "      <td>...</td>\n",
       "      <td>3.46</td>\n",
       "      <td>4.81</td>\n",
       "      <td>5.49</td>\n",
       "      <td>5.19</td>\n",
       "      <td>3.10</td>\n",
       "      <td>3.86</td>\n",
       "      <td>2.96</td>\n",
       "      <td>1.09</td>\n",
       "      <td>-1.42</td>\n",
       "      <td>0</td>\n",
       "    </tr>\n",
       "  </tbody>\n",
       "</table>\n",
       "<p>1912 rows × 22 columns</p>\n",
       "</div>"
      ],
      "text/plain": [
       "        0     1     2     3     4     5     6     7     8     9   ...    12  \\\n",
       "0    -1.23 -1.56 -1.75 -0.28  0.60  2.22  0.85  0.21 -0.20  0.89  ...  2.89   \n",
       "1     0.86  0.29  2.19 -0.02  1.13  2.51  2.37  5.45  5.45  4.84  ...  2.58   \n",
       "2     1.16  0.37  0.40 -0.59  2.66  1.00  2.69  4.06  5.34  3.53  ...  4.30   \n",
       "3    -0.00  0.77  1.32  0.29 -1.28  0.84  1.60  1.55  2.93  4.76  ...  4.89   \n",
       "4    -0.22 -0.91 -1.18  0.35 -1.92 -1.59  1.91  0.75  1.72  2.02  ...  2.73   \n",
       "...    ...   ...   ...   ...   ...   ...   ...   ...   ...   ...  ...   ...   \n",
       "1907 -1.07  0.68  0.65 -0.81 -0.73  0.86 -0.17  0.51 -0.03  1.63  ...  3.64   \n",
       "1908 -1.69  0.50 -0.02 -2.79  1.37  0.27  0.88  2.72  1.77  2.59  ...  3.00   \n",
       "1909  0.87  0.07  1.32 -0.05  0.95  0.35  2.22  6.05  3.00  6.16  ...  2.59   \n",
       "1910  0.20  2.55 -0.28  0.23  0.54 -0.05  1.13 -1.04  1.75  1.41  ...  4.99   \n",
       "1911 -0.65  0.69  2.29 -0.16  0.51  0.26  2.34 -0.42  0.49  0.31  ...  3.46   \n",
       "\n",
       "        13    14    15    16    17    18    19    20  21  \n",
       "0     7.75  4.59  3.15  5.12  3.32  1.20  0.24 -0.56   2  \n",
       "1     1.40  1.24  1.41  1.07 -1.43  2.84 -1.18  1.12   1  \n",
       "2     1.84  1.73  0.21 -0.18  0.13 -0.21 -0.80 -0.68   1  \n",
       "3     2.81  2.37  3.68 -0.98  0.69  0.91 -1.80  0.39   2  \n",
       "4     4.29  4.89  2.04  1.13 -0.66 -1.33  0.41 -0.75   2  \n",
       "...    ...   ...   ...   ...   ...   ...   ...   ...  ..  \n",
       "1907  5.12  4.94  4.10  2.90  1.78  0.80  0.60 -0.95   0  \n",
       "1908  6.69  5.43  4.54  2.88  0.58  2.36  0.68 -0.15   2  \n",
       "1909  3.02  1.34  1.88  0.76 -1.41  1.58  1.32 -0.91   1  \n",
       "1910  5.85  6.58  4.65  3.86  3.18  1.44  1.61  0.10   0  \n",
       "1911  4.81  5.49  5.19  3.10  3.86  2.96  1.09 -1.42   0  \n",
       "\n",
       "[1912 rows x 22 columns]"
      ]
     },
     "execution_count": 16,
     "metadata": {},
     "output_type": "execute_result"
    }
   ],
   "source": [
    "df.reset_index(drop=True, inplace=True)\n",
    "df"
   ]
  },
  {
   "cell_type": "markdown",
   "metadata": {
    "id": "G4esmUKOTDan"
   },
   "source": [
    "# Split the Dataset"
   ]
  },
  {
   "cell_type": "markdown",
   "metadata": {},
   "source": [
    "- Split the datset into training and test sets.\n",
    "- Further split the training and test set into the input features X and the label y."
   ]
  },
  {
   "cell_type": "code",
   "execution_count": 17,
   "metadata": {
    "id": "qSz29f7pGvtJ"
   },
   "outputs": [],
   "source": [
    "df = df_original.copy()"
   ]
  },
  {
   "cell_type": "code",
   "execution_count": 18,
   "metadata": {
    "id": "RMZeFJznS6ZS"
   },
   "outputs": [],
   "source": [
    "def split_train_test(df, train_size):\n",
    "  # split the data into training and test set\n",
    "  train_df = df.sample(frac=train_size, random_state=2)\n",
    "  test_df = df.drop(train_df.index)\n",
    "  train_df.reset_index(drop=True, inplace=True)\n",
    "  test_df.reset_index(drop=True, inplace=True)\n",
    "  return train_df, test_df"
   ]
  },
  {
   "cell_type": "code",
   "execution_count": 19,
   "metadata": {
    "colab": {
     "base_uri": "https://localhost:8080/"
    },
    "id": "r6Uf-jsxTxQK",
    "outputId": "8643fca2-03b8-460a-8712-aa8cee726f1f"
   },
   "outputs": [
    {
     "name": "stdout",
     "output_type": "stream",
     "text": [
      "(4000, 22), (1000, 22)\n"
     ]
    }
   ],
   "source": [
    "train_df, test_df = split_train_test(df, 0.80)\n",
    "print(f'{train_df.shape}, {test_df.shape}')"
   ]
  },
  {
   "cell_type": "code",
   "execution_count": 20,
   "metadata": {
    "id": "5vuYMEcQfT0Z"
   },
   "outputs": [],
   "source": [
    "last_feat = num_features-1\n",
    "\n",
    "train_X = train_df[np.arange(0, last_feat)]\n",
    "train_Y = train_df[last_feat]\n",
    "\n",
    "test_X = test_df[np.arange(0, last_feat)]\n",
    "test_Y = test_df[last_feat]"
   ]
  },
  {
   "cell_type": "markdown",
   "metadata": {
    "id": "9t8W1B8fGswy"
   },
   "source": [
    "# Data Exploration"
   ]
  },
  {
   "cell_type": "code",
   "execution_count": 21,
   "metadata": {
    "colab": {
     "base_uri": "https://localhost:8080/",
     "height": 757
    },
    "id": "QeoDdZfsYtmb",
    "outputId": "a7533f39-87a1-4c22-c93a-a34d61486d77"
   },
   "outputs": [
    {
     "data": {
      "image/png": "[encoded data removed]",
      "text/plain": [
       "<Figure size 640x480 with 2 Axes>"
      ]
     },
     "metadata": {},
     "output_type": "display_data"
    }
   ],
   "source": [
    "correlations = train_df.corr()\n",
    "sns.heatmap(correlations, cmap='coolwarm', fmt='.2f')\n",
    "plt.show()"
   ]
  },
  {
   "cell_type": "code",
   "execution_count": 22,
   "metadata": {
    "colab": {
     "base_uri": "https://localhost:8080/"
    },
    "id": "gTHQbXbeY5Fs",
    "outputId": "b3ecfa32-55e8-4f5d-ad7c-0eb45277737c"
   },
   "outputs": [
    {
     "name": "stdout",
     "output_type": "stream",
     "text": [
      "14  15    0.721588\n",
      "15  14    0.721588\n",
      "6   5     0.718998\n",
      "5   6     0.718998\n",
      "7   6     0.684074\n",
      "6   7     0.684074\n",
      "13  14    0.671534\n",
      "14  13    0.671534\n",
      "16  14    0.669238\n",
      "14  16    0.669238\n",
      "dtype: float64\n",
      "\n",
      "5   13   -0.660541\n",
      "13  5    -0.660541\n",
      "15  7    -0.672676\n",
      "7   15   -0.672676\n",
      "14  6    -0.704145\n",
      "6   14   -0.704145\n",
      "13  6    -0.711551\n",
      "6   13   -0.711551\n",
      "7   14   -0.711894\n",
      "14  7    -0.711894\n",
      "dtype: float64\n"
     ]
    }
   ],
   "source": [
    "# get all correlations above 0.65 or below -0.65\n",
    "sorted_correlations = correlations.unstack().sort_values(ascending=False)\n",
    "sorted_correlations = sorted_correlations[sorted_correlations != 1]\n",
    "print(sorted_correlations.head(10), sorted_correlations.tail(10), sep='\\n\\n')"
   ]
  },
  {
   "cell_type": "markdown",
   "metadata": {
    "id": "2MTm_zy5fkMF"
   },
   "source": [
    "- Some features are quite highly correlated.\n",
    "  - This information is useful as it means PCA will probably work well on this dataset.\n",
    "  - Even better news as it means we have a higher chance to reduce the curse of dimensionality.\n",
    "    - Which can strongly affect kNN."
   ]
  },
  {
   "cell_type": "markdown",
   "metadata": {
    "id": "N5EO8bUufor2"
   },
   "source": [
    "# Standardisation\n"
   ]
  },
  {
   "cell_type": "markdown",
   "metadata": {},
   "source": [
    "- Standardise the data using the z-score for each value.\n",
    "\n",
    "- This is best for kNN as it centers the values around 0.\n",
    "\n",
    "- Also makes it easier to identify outliers.\n",
    "  - Any example with a value above 3 means it is more than 3 standard deviations away from the mean (outlier?)."
   ]
  },
  {
   "cell_type": "code",
   "execution_count": 23,
   "metadata": {
    "colab": {
     "base_uri": "https://localhost:8080/"
    },
    "id": "F8b0Gej7fpkG",
    "outputId": "8afc49b9-189a-4974-935b-d3fb4147d451"
   },
   "outputs": [
    {
     "name": "stdout",
     "output_type": "stream",
     "text": [
      "0      7\n",
      "1      8\n",
      "2     12\n",
      "3      3\n",
      "4      1\n",
      "5      1\n",
      "6      1\n",
      "7      1\n",
      "8      5\n",
      "9      5\n",
      "10     4\n",
      "11     2\n",
      "12     1\n",
      "13     1\n",
      "14     1\n",
      "15     1\n",
      "16     4\n",
      "17     6\n",
      "18     7\n",
      "19    11\n",
      "20    11\n",
      "dtype: int64\n"
     ]
    }
   ],
   "source": [
    "def standardize(df):\n",
    "    mean = df.mean(axis=0)\n",
    "    std = df.std(axis=0)\n",
    "    standardized_df = (df - mean) / std\n",
    "    return standardized_df, mean, std\n",
    "\n",
    "train_X, train_mean, train_std = standardize(train_X)\n",
    "\n",
    "test_X_original = test_X.copy()\n",
    "test_X = (test_X-train_mean)/train_std\n",
    "\n",
    "print((train_X > 3).sum() + (train_X < -3).sum())"
   ]
  },
  {
   "cell_type": "code",
   "execution_count": 24,
   "metadata": {
    "colab": {
     "base_uri": "https://localhost:8080/",
     "height": 447
    },
    "id": "AsYcsgB1ftTw",
    "outputId": "e7b7bef6-d744-4347-abc4-9b9a37537c32"
   },
   "outputs": [
    {
     "data": {
      "text/plain": [
       "Text(0, 0.5, 'Z-score for All Examples')"
      ]
     },
     "execution_count": 24,
     "metadata": {},
     "output_type": "execute_result"
    },
    {
     "data": {
      "image/png": "[encoded data removed]",
      "text/plain": [
       "<Figure size 600x600 with 1 Axes>"
      ]
     },
     "metadata": {},
     "output_type": "display_data"
    }
   ],
   "source": [
    "plt.figure(figsize=(6,6))\n",
    "sns.boxplot(train_X)\n",
    "plt.xlabel('Feature Name')\n",
    "plt.ylabel('Z-score for All Examples')"
   ]
  },
  {
   "cell_type": "markdown",
   "metadata": {
    "id": "PdqAZ7mkfwek"
   },
   "source": [
    "We can't conclude much from the above box plot as it shows the outliers for different features.\n",
    "- An example that is an outlier for feature 1 is likely not for all other 21 features."
   ]
  },
  {
   "cell_type": "markdown",
   "metadata": {
    "id": "Vyb41fG2fyvH"
   },
   "source": [
    "So let's combine the z-scores of all examples and divide by the number of features to get a scalar for each example."
   ]
  },
  {
   "cell_type": "code",
   "execution_count": 25,
   "metadata": {
    "colab": {
     "base_uri": "https://localhost:8080/",
     "height": 446
    },
    "id": "BaiJJqkjfzZS",
    "outputId": "5b100253-d5e8-4f10-a4b0-5efb9c4bd25c"
   },
   "outputs": [
    {
     "name": "stdout",
     "output_type": "stream",
     "text": [
      "-0.5184737042365252\n",
      "0.5095076290937769\n"
     ]
    },
    {
     "data": {
      "image/png": "[encoded data removed]",
      "text/plain": [
       "<Figure size 600x600 with 1 Axes>"
      ]
     },
     "metadata": {},
     "output_type": "display_data"
    }
   ],
   "source": [
    "row_sums = train_X.sum(axis=1)\n",
    "plt.figure(figsize=(6,6))\n",
    "sns.boxplot(row_sums/num_features)\n",
    "plt.xlabel('Sum of Features for All Examples')\n",
    "plt.ylabel('Average Z-score')\n",
    "\n",
    "print(min(row_sums/num_features))\n",
    "print(max(row_sums/num_features))"
   ]
  },
  {
   "cell_type": "markdown",
   "metadata": {
    "id": "njd2Xx1Tf8U5"
   },
   "source": [
    "From this box-plot, we can infer that there are no outliers.\n",
    "- No example lies more than 0.6 standard deviations away from the mean."
   ]
  },
  {
   "cell_type": "markdown",
   "metadata": {
    "id": "gfWQzGFAhwaN"
   },
   "source": [
    "# Initial kNN Implementation\n",
    "\n",
    "This method simply takes the standardised raw data."
   ]
  },
  {
   "cell_type": "code",
   "execution_count": 26,
   "metadata": {
    "id": "3sWqv6vfhzsn"
   },
   "outputs": [],
   "source": [
    "def compute_distance_matrix(X):\n",
    "  X_size = X.shape[0]\n",
    "  distance_matrix = np.zeros((X_size, X_size))\n",
    "  for i in range(X_size):\n",
    "    distance_matrix[i] = np.linalg.norm(X.iloc[i] - X, axis=1)\n",
    "  return distance_matrix"
   ]
  },
  {
   "cell_type": "code",
   "execution_count": 27,
   "metadata": {},
   "outputs": [
    {
     "name": "stdout",
     "output_type": "stream",
     "text": [
      "Distance matrix shape: (4000, 4000)\n"
     ]
    }
   ],
   "source": [
    "distance_matrix = compute_distance_matrix(train_X)\n",
    "print(f'Distance matrix shape: {distance_matrix.shape}')"
   ]
  },
  {
   "cell_type": "code",
   "execution_count": 28,
   "metadata": {
    "id": "8lw1iOn9-w7P"
   },
   "outputs": [],
   "source": [
    "def kfold_indices(data, k_folds):\n",
    "    fold_size = len(data) // k_folds\n",
    "    indices = np.arange(len(data))\n",
    "    folds = []\n",
    "    for i in range(k_folds):\n",
    "        validation_indices = indices[i*fold_size:(i+1)*fold_size]\n",
    "        train_indices = np.concatenate([indices[:i*fold_size], indices[(i+1)*fold_size:]])\n",
    "        folds.append((train_indices, validation_indices))\n",
    "    return folds"
   ]
  },
  {
   "cell_type": "code",
   "execution_count": 29,
   "metadata": {
    "colab": {
     "base_uri": "https://localhost:8080/"
    },
    "id": "4t8jfzcbBc3K",
    "outputId": "b7aa8d07-8703-4af0-d6b0-a5198f50e4be"
   },
   "outputs": [
    {
     "name": "stdout",
     "output_type": "stream",
     "text": [
      "Fold 1 - Train size: 3600, Validation size: 400\n",
      "Fold 1 - Train indices: [ 400  401  402 ... 3997 3998 3999]\n",
      "Fold 1 - Validation indices: [  0   1   2   3   4   5   6   7   8   9  10  11  12  13  14  15  16  17\n",
      "  18  19  20  21  22  23  24  25  26  27  28  29  30  31  32  33  34  35\n",
      "  36  37  38  39  40  41  42  43  44  45  46  47  48  49  50  51  52  53\n",
      "  54  55  56  57  58  59  60  61  62  63  64  65  66  67  68  69  70  71\n",
      "  72  73  74  75  76  77  78  79  80  81  82  83  84  85  86  87  88  89\n",
      "  90  91  92  93  94  95  96  97  98  99 100 101 102 103 104 105 106 107\n",
      " 108 109 110 111 112 113 114 115 116 117 118 119 120 121 122 123 124 125\n",
      " 126 127 128 129 130 131 132 133 134 135 136 137 138 139 140 141 142 143\n",
      " 144 145 146 147 148 149 150 151 152 153 154 155 156 157 158 159 160 161\n",
      " 162 163 164 165 166 167 168 169 170 171 172 173 174 175 176 177 178 179\n",
      " 180 181 182 183 184 185 186 187 188 189 190 191 192 193 194 195 196 197\n",
      " 198 199 200 201 202 203 204 205 206 207 208 209 210 211 212 213 214 215\n",
      " 216 217 218 219 220 221 222 223 224 225 226 227 228 229 230 231 232 233\n",
      " 234 235 236 237 238 239 240 241 242 243 244 245 246 247 248 249 250 251\n",
      " 252 253 254 255 256 257 258 259 260 261 262 263 264 265 266 267 268 269\n",
      " 270 271 272 273 274 275 276 277 278 279 280 281 282 283 284 285 286 287\n",
      " 288 289 290 291 292 293 294 295 296 297 298 299 300 301 302 303 304 305\n",
      " 306 307 308 309 310 311 312 313 314 315 316 317 318 319 320 321 322 323\n",
      " 324 325 326 327 328 329 330 331 332 333 334 335 336 337 338 339 340 341\n",
      " 342 343 344 345 346 347 348 349 350 351 352 353 354 355 356 357 358 359\n",
      " 360 361 362 363 364 365 366 367 368 369 370 371 372 373 374 375 376 377\n",
      " 378 379 380 381 382 383 384 385 386 387 388 389 390 391 392 393 394 395\n",
      " 396 397 398 399]\n"
     ]
    }
   ],
   "source": [
    "k_folds = 10\n",
    "folds = kfold_indices(train_X, k_folds)\n",
    "print(f\"Fold 1 - Train size: {len(folds[0][0])}, Validation size: {len(folds[0][1])}\")\n",
    "print(f\"Fold 1 - Train indices: {folds[0][0]}\")\n",
    "print(f\"Fold 1 - Validation indices: {folds[0][1]}\")"
   ]
  },
  {
   "cell_type": "code",
   "execution_count": 30,
   "metadata": {
    "id": "J9D8k83hSLMs"
   },
   "outputs": [],
   "source": [
    "def get_neighbors(val_distances_row, train_indices, k):\n",
    "    # Sort distances to training points and get k smallest\n",
    "    sorted_indices = np.argsort(val_distances_row[train_indices])[:k]\n",
    "    # Map back to the training indices\n",
    "    neighbors_indices = train_indices[sorted_indices]\n",
    "    return neighbors_indices"
   ]
  },
  {
   "cell_type": "code",
   "execution_count": 31,
   "metadata": {
    "id": "5lvfBdwlDeQk"
   },
   "outputs": [],
   "source": [
    "def knn_prediction(neighbors_indices, labels):\n",
    "    # Retrieve the labels of the neighbors\n",
    "    labels_indices = labels.index[neighbors_indices]\n",
    "    output_values = labels.loc[labels_indices].values.flatten()\n",
    "    # Perform majority voting\n",
    "    prediction = max(set(output_values), key=list(output_values).count)\n",
    "    return prediction"
   ]
  },
  {
   "cell_type": "code",
   "execution_count": 32,
   "metadata": {},
   "outputs": [],
   "source": [
    "def knn(val_distances_row, train_indices, k, labels):\n",
    "    neighbors = get_neighbors(val_distances_row, train_indices, k)\n",
    "    return knn_prediction(neighbors, labels)"
   ]
  },
  {
   "cell_type": "code",
   "execution_count": 33,
   "metadata": {
    "id": "rR24pleSDk-3"
   },
   "outputs": [],
   "source": [
    "def accuracy_metric(actual, predicted):\n",
    "    correct = 0\n",
    "    for i in range(len(actual)):\n",
    "        if actual[i] == predicted[i]:\n",
    "            correct += 1\n",
    "    return correct / len(actual) * 100.0"
   ]
  },
  {
   "cell_type": "code",
   "execution_count": 34,
   "metadata": {
    "colab": {
     "base_uri": "https://localhost:8080/"
    },
    "id": "J0t3tuhfDn-R",
    "outputId": "f91542e3-1ea0-4e0b-a40d-f89689686fba"
   },
   "outputs": [
    {
     "name": "stdout",
     "output_type": "stream",
     "text": [
      "Accuracy: 90.0\n"
     ]
    }
   ],
   "source": [
    "actual =    [0, 1, 1, 0, 0, 1, 0, 1, 1, 1]\n",
    "predicted = [0, 1, 0, 0, 0, 1, 0, 1, 1, 1]\n",
    "accuracy = accuracy_metric(actual, predicted)\n",
    "print(f'Accuracy: {accuracy}')"
   ]
  },
  {
   "cell_type": "code",
   "execution_count": 35,
   "metadata": {
    "id": "IXD91j1wDpH9"
   },
   "outputs": [],
   "source": [
    "def k_folds_cross_validation(train_X, train_Y, distance_matrix, k_folds, k):\n",
    "    folds = kfold_indices(train_X, k_folds)\n",
    "    scores = []\n",
    "\n",
    "    for fold in folds:\n",
    "        train_indices = fold[0]\n",
    "        validation_indices = fold[1]\n",
    "\n",
    "        # Get the sub-matrix of distances for validation vs all data\n",
    "        validation_distances = distance_matrix[validation_indices, :]\n",
    "\n",
    "        # Use the algorithm to predict for all validation instances at once\n",
    "        predicted = []\n",
    "\n",
    "        for i, _ in enumerate(validation_indices):\n",
    "            prediction = knn(validation_distances[i, :], train_indices, k, train_Y)\n",
    "            predicted.append(prediction)\n",
    "\n",
    "        # Get actual labels for validation data\n",
    "        actual = train_Y.loc[validation_indices].values\n",
    "\n",
    "        # Calculate accuracy for the current fold\n",
    "        accuracy = accuracy_metric(actual, predicted)\n",
    "        scores.append(accuracy)\n",
    "\n",
    "    return scores"
   ]
  },
  {
   "cell_type": "markdown",
   "metadata": {
    "id": "cKMJRRcxKw5E"
   },
   "source": [
    "## Let's find the best value of k\n",
    "We will search for k in the range [1, 100] inclusive.\n",
    "\n",
    "This includes $\\sqrt{n}=\\sqrt{4000}\\approx63$, which can be used as a base for the best value of k.\n",
    "\n",
    "We will use 10 folds to calculate the accuracy."
   ]
  },
  {
   "cell_type": "code",
   "execution_count": 36,
   "metadata": {
    "colab": {
     "base_uri": "https://localhost:8080/"
    },
    "id": "rShLoOEIDrPJ",
    "outputId": "b4ee4d5f-d210-41ab-ccee-ff6215a7d77c"
   },
   "outputs": [
    {
     "name": "stderr",
     "output_type": "stream",
     "text": [
      "Finding best k: 100%|██████████| 100/100 [02:31<00:00,  1.52s/it]"
     ]
    },
    {
     "name": "stdout",
     "output_type": "stream",
     "text": [
      "Best k: 52, Best Accuracy: 85.85\n"
     ]
    },
    {
     "name": "stderr",
     "output_type": "stream",
     "text": [
      "\n"
     ]
    }
   ],
   "source": [
    "k_folds = 10\n",
    "k_neighbors = np.arange(1, 101)\n",
    "accuracy = []\n",
    "\n",
    "best_k = None\n",
    "best_accuracy = 0\n",
    "\n",
    "for k in tqdm(k_neighbors, desc='Finding best k'):\n",
    "    scores = k_folds_cross_validation(train_X, train_Y, distance_matrix, k_folds, k)\n",
    "    mean_accuracy = np.mean(scores)\n",
    "    accuracy.append(mean_accuracy)\n",
    "\n",
    "    if mean_accuracy > best_accuracy:\n",
    "        best_accuracy = mean_accuracy\n",
    "        best_k = k\n",
    "\n",
    "print(f'Best k: {best_k}, Best Accuracy: {best_accuracy}')\n"
   ]
  },
  {
   "cell_type": "code",
   "execution_count": 37,
   "metadata": {
    "colab": {
     "base_uri": "https://localhost:8080/",
     "height": 472
    },
    "id": "uL5s26sFKPV7",
    "outputId": "1da55979-2667-488e-869c-0ecb8bab1250"
   },
   "outputs": [
    {
     "data": {
      "image/png": "[encoded data removed]",
      "text/plain": [
       "<Figure size 640x480 with 1 Axes>"
      ]
     },
     "metadata": {},
     "output_type": "display_data"
    }
   ],
   "source": [
    "def plot_accuracy(k, accuracy):\n",
    "    # plt.figure(figsize=(10, 5))\n",
    "    plt.plot(k, accuracy, label='Accuracy')\n",
    "    plt.xlabel('k')\n",
    "    plt.ylabel('Accuracy')\n",
    "    plt.title('k vs Accuracy')\n",
    "    plt.grid()\n",
    "    plt.axvline(x=best_k, color='r', linestyle='--', label=f'Best k - {best_k} with accuracy of {best_accuracy}%')\n",
    "    plt.legend()\n",
    "    plt.show()\n",
    "\n",
    "plot_accuracy(k_neighbors, accuracy)"
   ]
  },
  {
   "cell_type": "markdown",
   "metadata": {
    "id": "wMx1qjwDMxpO"
   },
   "source": [
    "# Part 2: Data Reduction"
   ]
  },
  {
   "cell_type": "markdown",
   "metadata": {},
   "source": [
    "### Step 1 - Remove Outliers\n",
    "1. Split training set into two random subsets $S_1$ and $S_2$.\n",
    "2. while $S_1$ and $S_2$ not stabilised:\n",
    "    - classify $S_1$ with $S_2$ using 1-NN.\n",
    "    - Remove misclassified instances from $S_1$ \n",
    "    - Classify $S_2$ with new set $S_1$ using 1-NN\n",
    "    - Remove misclassified instances from $S_2$\n",
    "3. $S_{cleaned} = S_1 \\cup S_2$"
   ]
  },
  {
   "cell_type": "code",
   "execution_count": 38,
   "metadata": {
    "id": "XON_GdmAM5cP"
   },
   "outputs": [
    {
     "name": "stdout",
     "output_type": "stream",
     "text": [
      "(3182, 21) (3182,)\n"
     ]
    }
   ],
   "source": [
    "def classify_and_remove(S1, S2, distance_matrix, Y):\n",
    "    train_indices = S2.index.values\n",
    "    indices_to_drop = []\n",
    "    for index, _ in S1.iterrows():\n",
    "        k = 1\n",
    "        predicted_label = knn(distance_matrix[index], train_indices, k, train_Y)\n",
    "        actual_label = Y.loc[index]\n",
    "        if predicted_label != actual_label:\n",
    "            indices_to_drop.append(index)\n",
    "    S1.drop(indices_to_drop, inplace=True)\n",
    "    return S1\n",
    "\n",
    "def remove_outliers(X, Y, distance_matrix, max_iterations=10):\n",
    "    S1 = X.sample(frac=0.5)\n",
    "    S2 = X.drop(S1.index)\n",
    "\n",
    "    old_S1 = S1.copy()\n",
    "    old_S2 = S2.copy()\n",
    "    i = 0\n",
    "    while i < max_iterations:\n",
    "        old_S1 = S1.copy()\n",
    "        old_S2 = S2.copy()\n",
    "\n",
    "        S1 = classify_and_remove(S1, S2, distance_matrix, Y)\n",
    "        S2 = classify_and_remove(S2, S1, distance_matrix, Y)\n",
    "\n",
    "        if S1.index.equals(old_S1.index) and S2.index.equals(old_S2.index):\n",
    "            break\n",
    "\n",
    "        i += 1\n",
    "\n",
    "    cleaned_indices = pd.concat([S1, S2]).index\n",
    "    X,Y = X.loc[cleaned_indices], Y.loc[cleaned_indices]\n",
    "    X.reset_index(drop=True,inplace=True)\n",
    "    Y.reset_index(drop=True,inplace=True)\n",
    "    return X,Y\n",
    "\n",
    "# Example usage\n",
    "train_X_reduced, train_Y_reduced = remove_outliers(train_X, train_Y, distance_matrix)\n",
    "print(train_X_reduced.shape, train_Y_reduced.shape)"
   ]
  },
  {
   "cell_type": "markdown",
   "metadata": {},
   "source": [
    "### Step 2 - Hollow Clusters\n",
    "1. Initialise storage and bin lists.\n",
    "2. Randomly draw an example from S and put in storage.\n",
    "3. while no stabilisation of storage:\n",
    "    ```python\n",
    "    for x in S:    \n",
    "        if x is correctly classified using an example from storage with 1-NN\n",
    "            bin.append(x)\n",
    "        else\n",
    "            storage.append(x)\n",
    "    ```\n",
    "            \n",
    "4. return storage"
   ]
  },
  {
   "cell_type": "code",
   "execution_count": 39,
   "metadata": {},
   "outputs": [
    {
     "name": "stdout",
     "output_type": "stream",
     "text": [
      "1 2116\n",
      "2 2496\n",
      "3 2511\n",
      "4 2511\n",
      "(2511, 21)\n"
     ]
    }
   ],
   "source": [
    "def calculate_storage(X, Y, storage, bin, distance_matrix):\n",
    "    for idx, _ in X.iterrows():\n",
    "        neighbor = get_neighbors(distance_matrix[idx], np.array(storage), k=1)\n",
    "        predicted_label = knn_prediction(neighbor, Y)\n",
    "        actual_label = Y.loc[idx]\n",
    "        if predicted_label == actual_label:\n",
    "            bin.append(idx)\n",
    "        else:\n",
    "            storage.append(idx)\n",
    "    return storage, bin\n",
    "\n",
    "def hollow_clusters(X, Y, distance_matrix):\n",
    "    storage = []\n",
    "    bin = []\n",
    "    storage.append(np.random.choice(X.index))\n",
    "\n",
    "    old_storage = storage.copy()\n",
    "    i = 0\n",
    "    while i == 0 or not np.array_equal(old_storage, storage):\n",
    "        old_storage = storage.copy()\n",
    "        storage, bin = calculate_storage(X, Y, storage, bin, distance_matrix)\n",
    "        i += 1\n",
    "        print(i, len(storage))\n",
    "\n",
    "    X,Y = X.loc[np.array(storage)], Y.loc[np.array(storage)]\n",
    "    X.reset_index(drop=True,inplace=True)\n",
    "    Y.reset_index(drop=True,inplace=True)\n",
    "    return X,Y\n",
    "\n",
    "# Example usage\n",
    "train_X_reduced, train_Y_reduced = hollow_clusters(train_X_reduced, train_Y_reduced, distance_matrix)\n",
    "print(train_X_reduced.shape)"
   ]
  },
  {
   "cell_type": "markdown",
   "metadata": {},
   "source": [
    "## Compare Accuracy of Dataset Before and After Reduction"
   ]
  },
  {
   "cell_type": "code",
   "execution_count": 40,
   "metadata": {},
   "outputs": [
    {
     "name": "stdout",
     "output_type": "stream",
     "text": [
      "1NN - Accuracy before reduction: 75.10%\n",
      "1NN - Accuracy after reduction:  75.70%\n"
     ]
    }
   ],
   "source": [
    "def test_knn(test_X, test_Y, train_X, train_Y, k):\n",
    "    errors = 0\n",
    "    for idx, x in test_X.iterrows():\n",
    "        distances = np.sqrt(np.sum((train_X - x)**2, axis=1))\n",
    "        neighbors_indices = distances.index[np.argsort(distances)][:k]\n",
    "        neighbors_labels = train_Y.loc[neighbors_indices].values.flatten()\n",
    "        predicted_label = max(set(neighbors_labels), key=list(neighbors_labels).count)\n",
    "        actual_label = test_Y.loc[idx].item()\n",
    "        if predicted_label != actual_label:\n",
    "            errors += 1\n",
    "    accuracy = 1-(errors/test_X.shape[0])\n",
    "    accuracy *= 100\n",
    "    return accuracy\n",
    "\n",
    "accuracy_before_reduction = test_knn(test_X, test_Y, train_X, train_Y, 1)\n",
    "accuracy_after_reduction = test_knn(test_X, test_Y, train_X_reduced, train_Y_reduced, 1)\n",
    "\n",
    "print(f'1NN - Accuracy before reduction: {accuracy_before_reduction:.2f}%')\n",
    "print(f'1NN - Accuracy after reduction:  {accuracy_after_reduction:.2f}%')"
   ]
  },
  {
   "cell_type": "code",
   "execution_count": 41,
   "metadata": {},
   "outputs": [
    {
     "name": "stdout",
     "output_type": "stream",
     "text": [
      "kNN with best k - Accuracy before reduction: 84.20%\n",
      "kNN with best k - Accuracy after reduction:  83.70%\n"
     ]
    }
   ],
   "source": [
    "accuracy_before_reduction = test_knn(test_X, test_Y, train_X, train_Y, best_k)\n",
    "accuracy_after_reduction = test_knn(test_X, test_Y, train_X_reduced, train_Y_reduced, best_k)\n",
    "\n",
    "print(f'kNN with best k - Accuracy before reduction: {accuracy_before_reduction:.2f}%')\n",
    "print(f'kNN with best k - Accuracy after reduction:  {accuracy_after_reduction:.2f}%')"
   ]
  },
  {
   "cell_type": "markdown",
   "metadata": {},
   "source": [
    "# Part 3"
   ]
  },
  {
   "cell_type": "code",
   "execution_count": 42,
   "metadata": {},
   "outputs": [],
   "source": [
    "def brute_force_1nn(train_X, train_Y, test_X):\n",
    "    predictions = []\n",
    "    for test_instance in tqdm(test_X.values, desc='Brute Force 1NN'):\n",
    "        distances = np.linalg.norm(train_X.values - test_instance, axis=1)\n",
    "        nearest_neighbor_idx = np.argmin(distances)\n",
    "        prediction = train_Y.iloc[nearest_neighbor_idx]\n",
    "        predictions.append(prediction)\n",
    "    return predictions"
   ]
  },
  {
   "cell_type": "code",
   "execution_count": 43,
   "metadata": {},
   "outputs": [],
   "source": [
    "def triangle_inequality_1nn(train_X, train_Y, test_X, distance_matrix):\n",
    "    predictions = []\n",
    "    test_X = test_X.values\n",
    "    train_X = train_X.values\n",
    "\n",
    "    for test_index, test_instance in enumerate(tqdm(test_X, desc='Triangle Inequality 1NN')):\n",
    "        d_min = float('inf')\n",
    "        nearest_neighbor_label = None\n",
    "\n",
    "        candidate_indices = np.arange(len(train_X))\n",
    "\n",
    "        while candidate_indices.size > 0:\n",
    "            # Select and remove the first candidate index\n",
    "            i = candidate_indices[0]\n",
    "            candidate_indices = candidate_indices[1:]  # Remove the first element\n",
    "            train_instance_X = train_X[i]\n",
    "\n",
    "            # Compute the distance from test_instance to the train_instance\n",
    "            d_X_candidate = np.linalg.norm(test_instance - train_instance_X)\n",
    "\n",
    "            # Define sphere bounds\n",
    "            lower_bound_radius = d_X_candidate - d_min\n",
    "            upper_bound_radius = d_X_candidate + d_min\n",
    "\n",
    "            # Compute distances to other training points\n",
    "            other_indices = candidate_indices\n",
    "            d_X_other_candidates = distance_matrix[i, other_indices]\n",
    "\n",
    "            # Remove points outside the upper bound sphere or inside the lower bound sphere\n",
    "            included_mask = (d_X_other_candidates >= lower_bound_radius) & (d_X_other_candidates <= upper_bound_radius)\n",
    "            # points_removed = candidate_indices[~included_mask]  # Points that are removed\n",
    "            candidate_indices = candidate_indices[included_mask]  # Update candidate indices\n",
    "\n",
    "            # if len(points_removed) > 0:\n",
    "            #     print(f\"Test instance {test_index}: Removed points indices - {points_removed}\")\n",
    "\n",
    "            # Update nearest neighbor if necessary\n",
    "            if d_X_candidate < d_min:\n",
    "                d_min = d_X_candidate\n",
    "                nearest_neighbor_label = train_Y.iloc[i]\n",
    "\n",
    "        # Append the nearest neighbor's label to the predictions\n",
    "        predictions.append(nearest_neighbor_label)\n",
    "\n",
    "    return predictions\n"
   ]
  },
  {
   "cell_type": "code",
   "execution_count": 44,
   "metadata": {},
   "outputs": [
    {
     "name": "stderr",
     "output_type": "stream",
     "text": [
      "Brute Force 1NN: 100%|██████████| 1000/1000 [00:00<00:00, 7733.83it/s]\n"
     ]
    },
    {
     "name": "stdout",
     "output_type": "stream",
     "text": [
      "Brute Force 1NN Time: 0.13 seconds\n"
     ]
    },
    {
     "name": "stderr",
     "output_type": "stream",
     "text": [
      "Triangle Inequality 1NN: 100%|██████████| 1000/1000 [00:11<00:00, 87.33it/s]"
     ]
    },
    {
     "name": "stdout",
     "output_type": "stream",
     "text": [
      "\n",
      "Triangle Inequality 1NN Time: 11.45 seconds\n",
      "Both methods produce the same predictions.\n"
     ]
    },
    {
     "name": "stderr",
     "output_type": "stream",
     "text": [
      "\n"
     ]
    }
   ],
   "source": [
    "# Brute Force 1NN Timing\n",
    "start_time = time.time()\n",
    "brute_force_predictions = brute_force_1nn(train_X, train_Y, test_X)\n",
    "brute_force_time = time.time() - start_time\n",
    "print(f\"Brute Force 1NN Time: {brute_force_time:.2f} seconds\")\n",
    "\n",
    "# Triangle Inequality Timing\n",
    "start_time = time.time()\n",
    "triangle_inequality_predictions = triangle_inequality_1nn(train_X, train_Y, test_X, distance_matrix)\n",
    "triangle_inequality_time = time.time() - start_time\n",
    "print(f\"\\nTriangle Inequality 1NN Time: {triangle_inequality_time:.2f} seconds\")\n",
    "\n",
    "# Compare Predictions\n",
    "assert brute_force_predictions == triangle_inequality_predictions, \"Predictions do not match!\"\n",
    "print(\"Both methods produce the same predictions.\")\n"
   ]
  },
  {
   "cell_type": "markdown",
   "metadata": {},
   "source": [
    "# Part 4 - Imbalanced Dataset"
   ]
  },
  {
   "cell_type": "markdown",
   "metadata": {},
   "source": [
    "**Split the 4000 data into 3000 training and 1000 validation data.** Generate artificially imbalancy in\n",
    "the training data (e.g. one class is more and more minority) and analyze the impact on the accuracy\n",
    "on the 1000 test waves (using the best k obtained in 1/). Then, tune k w.r.t. the F-measure using the\n",
    "validation data and see if this allows to control the accuracy decrease on the test data."
   ]
  },
  {
   "cell_type": "code",
   "execution_count": 45,
   "metadata": {},
   "outputs": [
    {
     "data": {
      "text/plain": [
       "(3000, 22)"
      ]
     },
     "execution_count": 45,
     "metadata": {},
     "output_type": "execute_result"
    }
   ],
   "source": [
    "train_df_4, val_df = split_train_test(train_df, .75)\n",
    "train_df_4.shape"
   ]
  },
  {
   "cell_type": "code",
   "execution_count": 46,
   "metadata": {},
   "outputs": [],
   "source": [
    "train_X = train_df_4[np.arange(0, last_feat)]\n",
    "train_Y = train_df_4[last_feat]\n",
    "\n",
    "val_X = val_df[np.arange(0, last_feat)]\n",
    "val_Y = val_df[last_feat]"
   ]
  },
  {
   "cell_type": "code",
   "execution_count": 47,
   "metadata": {},
   "outputs": [],
   "source": [
    "test_X = test_X_original.copy()"
   ]
  },
  {
   "cell_type": "code",
   "execution_count": 48,
   "metadata": {},
   "outputs": [],
   "source": [
    "train_X, train_mean, train_std = standardize(train_X)\n",
    "\n",
    "test_X = (test_X-train_mean)/train_std"
   ]
  },
  {
   "cell_type": "markdown",
   "metadata": {},
   "source": [
    "We will implement undersampling and oversampling and compare the two. \n",
    "\n",
    "**Metrics for comparison**\n",
    "- Validation F-measure: A higher F-measure indicates better balance between precision and recall.\n",
    "- Test Accuracy: See which method better controls the accuracy decrease on the test set.\n",
    "- Performance Stability: Consider the average of results across multiple runs since both methods introduce randomness.\n",
    "\n",
    "**What to look out for?**\n",
    "- Does oversampling lead to overfitting?\n",
    "- Does undersampling result in too much data loss, reducing performance?\n",
    "- Does tuning $k$ alleviate the accuracy drop for one method more effectively than the other?\n"
   ]
  },
  {
   "cell_type": "markdown",
   "metadata": {},
   "source": [
    "## Undersampling"
   ]
  },
  {
   "cell_type": "code",
   "execution_count": 49,
   "metadata": {},
   "outputs": [],
   "source": [
    "def undersample(X,Y,sample_rate,minority_class=np.random.choice([0,1,2])):\n",
    "    class_indices = Y[Y==minority_class].index\n",
    "    indices_to_drop = class_indices.to_series().sample(frac=sample_rate)\n",
    "\n",
    "    X,Y = X.drop(indices_to_drop), Y.drop(indices_to_drop)\n",
    "\n",
    "    X.reset_index(drop=True,inplace=True)\n",
    "    Y.reset_index(drop=True,inplace=True)\n",
    "\n",
    "    return X,Y"
   ]
  },
  {
   "cell_type": "code",
   "execution_count": 50,
   "metadata": {},
   "outputs": [],
   "source": [
    "def calculate_class_percentage(Y, label):\n",
    "    return Y[Y==label].shape[0] / Y.shape[0]"
   ]
  },
  {
   "cell_type": "code",
   "execution_count": 51,
   "metadata": {},
   "outputs": [
    {
     "name": "stdout",
     "output_type": "stream",
     "text": [
      "0.3293333333333333\n",
      "0.2819414703783012\n"
     ]
    }
   ],
   "source": [
    "minority_class = 0\n",
    "\n",
    "train_X_under, train_Y_under = undersample(train_X, train_Y, 0.2, minority_class)\n",
    "\n",
    "print(calculate_class_percentage(train_Y,minority_class))\n",
    "print(calculate_class_percentage(train_Y_under,minority_class))"
   ]
  },
  {
   "cell_type": "code",
   "execution_count": 52,
   "metadata": {},
   "outputs": [],
   "source": [
    "def test_sample_rates(sampling_function, train_X, train_Y, test_X, test_Y, sample_rates, target_class, best_k, num_tests=5):\n",
    "    class_percentage = []\n",
    "    accuracies = []\n",
    "\n",
    "    for s_rate in sample_rates:\n",
    "        test_accuracies = []\n",
    "        # Run multiple times to cancel out randomness of sampling\n",
    "        for _ in range(num_tests):\n",
    "            train_X_sampled, train_Y_sampled = sampling_function(train_X, train_Y, s_rate, target_class)\n",
    "            accuracy = test_knn(test_X, test_Y, train_X_sampled, train_Y_sampled, best_k)\n",
    "            test_accuracies.append(accuracy)\n",
    "\n",
    "        # Calculate the percentage of the class in the dataset\n",
    "        percentage = calculate_class_percentage(train_Y_sampled, target_class)\n",
    "        class_percentage.append(percentage)\n",
    "        # Calculate the mean accuracy over multiple tests\n",
    "        accuracies.append(np.round(np.mean(test_accuracies), 2))\n",
    "\n",
    "    return class_percentage, accuracies"
   ]
  },
  {
   "cell_type": "code",
   "execution_count": 53,
   "metadata": {},
   "outputs": [
    {
     "name": "stdout",
     "output_type": "stream",
     "text": [
      "Minimum accuracy - class 0: 61.4%\n",
      "Maximum accuracy - class 0: 83.7%\n",
      "\n",
      "Minimum accuracy - class 1: 63.2%\n",
      "Maximum accuracy - class 1: 84.16%\n",
      "\n",
      "Minimum accuracy - class 2: 59.1%\n",
      "Maximum accuracy - class 2: 84.04%\n",
      "\n"
     ]
    }
   ],
   "source": [
    "classes = [0, 1, 2]\n",
    "sample_rates = np.arange(0.0,1.01,step=0.1)\n",
    "all_accuracies = []\n",
    "all_percentages = []\n",
    "\n",
    "for c in classes:\n",
    "    minority_percentage, accuracies = test_sample_rates(undersample, train_X, train_Y, test_X, test_Y, sample_rates, c, best_k)\n",
    "    all_accuracies.append(accuracies)\n",
    "    all_percentages.append(minority_percentage)\n",
    "    print(f'Minimum accuracy - class {c}: {np.min(accuracies)}%')\n",
    "    print(f'Maximum accuracy - class {c}: {np.max(accuracies)}%\\n')"
   ]
  },
  {
   "cell_type": "code",
   "execution_count": 54,
   "metadata": {},
   "outputs": [
    {
     "data": {
      "image/png": "[encoded data removed]",
      "text/plain": [
       "<Figure size 640x480 with 1 Axes>"
      ]
     },
     "metadata": {},
     "output_type": "display_data"
    }
   ],
   "source": [
    "def plot_accuracy_vs_sampling(classes, all_percentages, all_accuracies, class_type, best_k):\n",
    "    markers = ['o', '*', '^']\n",
    "\n",
    "    for i, c in enumerate(classes):\n",
    "        plt.plot(all_percentages[i], all_accuracies[i], marker=markers[i], label=f'Class {c}')\n",
    "\n",
    "    plt.xlabel(f\"Percentage of {class_type} Class in Training Set\")\n",
    "    plt.ylabel(f\"Accuracy in % on Test Set with k={best_k}\")\n",
    "    plt.title(f\"Test Accuracy of kNN vs Percentage of {class_type} Class in Training Set\")\n",
    "    plt.legend()\n",
    "    plt.grid(True)\n",
    "    plt.show()\n",
    "\n",
    "plot_accuracy_vs_sampling(classes, all_percentages, all_accuracies, 'Minority', best_k)"
   ]
  },
  {
   "cell_type": "markdown",
   "metadata": {},
   "source": [
    "**Key Findings from the Graph:**\n",
    "\n",
    "1. Completely removing Class 1 from the training data resulted in the lowest accuracy loss.\n",
    "2. Completely removing Class 2 had the most negative impact on model performance.\n",
    "\n",
    "**Analysis:**\n",
    "\n",
    "- The test set is randomly sampled from the original dataset.\n",
    "- The impact of Class 2's removal likely indicates:\n",
    "    - A slightly higher representation of Class 2 examples in the test set.\n",
    "        - This will lead to a higher accuracy loss compared to the removal of other classes."
   ]
  },
  {
   "cell_type": "markdown",
   "metadata": {},
   "source": [
    "## Oversampling"
   ]
  },
  {
   "cell_type": "code",
   "execution_count": 55,
   "metadata": {},
   "outputs": [],
   "source": [
    "def oversample(X,Y,sample_rate,majority_class=np.random.choice([0,1,2])):\n",
    "    class_indices = Y[Y==majority_class].index\n",
    "    # replace=True -> once an index is selected, this enters it into the pool to be selected again\n",
    "    # replace=False -> each index can only be chosen once, so you get a subset of the data\n",
    "    indices_to_duplicate = class_indices.to_series().sample(frac=sample_rate, replace=True)\n",
    "\n",
    "    # Efficiently create the duplicated rows using pandas directly\n",
    "    duplicated_X_rows = X.loc[indices_to_duplicate]\n",
    "    duplicated_Y_rows = Y.loc[indices_to_duplicate]\n",
    "\n",
    "    # Append duplicated rows to original DataFrames\n",
    "    X_oversampled = pd.concat([X, duplicated_X_rows], ignore_index=True)\n",
    "    Y_oversampled = pd.concat([Y, duplicated_Y_rows], ignore_index=True)\n",
    "\n",
    "    return X_oversampled, Y_oversampled"
   ]
  },
  {
   "cell_type": "code",
   "execution_count": 56,
   "metadata": {},
   "outputs": [
    {
     "name": "stdout",
     "output_type": "stream",
     "text": [
      "Minimum accuracy - class 0: 82.02%\n",
      "Maximum accuracy - class 0: 84.52%\n",
      "\n",
      "Minimum accuracy - class 1: 78.26%\n",
      "Maximum accuracy - class 1: 83.7%\n",
      "\n",
      "Minimum accuracy - class 2: 82.38%\n",
      "Maximum accuracy - class 2: 84.42%\n",
      "\n"
     ]
    }
   ],
   "source": [
    "all_accuracies = []\n",
    "all_percentages = []\n",
    "\n",
    "for c in classes:\n",
    "    majority_percentage, accuracies = test_sample_rates(oversample, train_X, train_Y, test_X, test_Y, sample_rates, c, best_k)\n",
    "    all_accuracies.append(accuracies)\n",
    "    all_percentages.append(majority_percentage)\n",
    "    print(f'Minimum accuracy - class {c}: {np.min(accuracies)}%')\n",
    "    print(f'Maximum accuracy - class {c}: {np.max(accuracies)}%\\n')"
   ]
  },
  {
   "cell_type": "code",
   "execution_count": 57,
   "metadata": {},
   "outputs": [
    {
     "data": {
      "image/png": "[encoded data removed]",
      "text/plain": [
       "<Figure size 640x480 with 1 Axes>"
      ]
     },
     "metadata": {},
     "output_type": "display_data"
    }
   ],
   "source": [
    "plot_accuracy_vs_sampling(classes, all_percentages, all_accuracies, 'Majority', best_k)"
   ]
  },
  {
   "cell_type": "markdown",
   "metadata": {},
   "source": [
    "This graph corroborates with the undersampling one:\n",
    "- When the majority of the dataset is class 2, the test accuracy is the highest of the 3 classes.\n",
    "    - This again indicates that it is likely that the percentage of class 2 in the test set is the highest. \n",
    "- Meanwhile, the lowest test accuracy comes from when class 1 is oversampled.\n",
    "    - This can be seen in both in both the undersampled and oversampled accuracies.\n",
    "    - Suggests the percentage of class 1 in the test set is the least.\n",
    "\n",
    "Let's test these theories."
   ]
  },
  {
   "cell_type": "code",
   "execution_count": 58,
   "metadata": {},
   "outputs": [
    {
     "name": "stdout",
     "output_type": "stream",
     "text": [
      "Class 0 percentage in test set: 34.80%\n",
      "Class 1 percentage in test set: 30.70%\n",
      "Class 2 percentage in test set: 34.50%\n"
     ]
    },
    {
     "data": {
      "image/png": "[encoded data removed]",
      "text/plain": [
       "<Figure size 640x480 with 1 Axes>"
      ]
     },
     "metadata": {},
     "output_type": "display_data"
    }
   ],
   "source": [
    "test_distribution = []\n",
    "\n",
    "for class_label in [0, 1, 2]:\n",
    "    percentage = calculate_class_percentage(test_Y, class_label)\n",
    "    test_distribution.append(percentage)\n",
    "    print(f'Class {class_label} percentage in test set: {percentage:.2%}')\n",
    "\n",
    "plt.bar(classes, test_distribution)\n",
    "plt.xticks(classes, [f'Class {c}' for c in classes])\n",
    "plt.xlabel(\"Test Set Classes\")\n",
    "plt.ylabel(\"Percentage in Test Set\")\n",
    "plt.title(\"Distribution of Classes in Test Set\")\n",
    "plt.show()"
   ]
  },
  {
   "cell_type": "markdown",
   "metadata": {},
   "source": [
    "The test set is slightly imbalanced, but not as we had suspected.  \n",
    "- Class 1 is indeed the least represented.\n",
    "- But class 2 and class 0 have a similar number of examples.\n",
    "\n",
    "Better performance on class 2 suggests its examples may be:\n",
    "\n",
    "- More tightly clustered\n",
    "- More distinct from other classes\n",
    "- Composed of fewer outliers\n",
    "\n",
    "The balanced representation between classes 0 and 2 indicates the performance difference comes from the underlying data structure of the examples of class 2 in the test set rather than class imbalance."
   ]
  },
  {
   "cell_type": "markdown",
   "metadata": {},
   "source": [
    "## Tuning new k using F-score"
   ]
  },
  {
   "cell_type": "code",
   "execution_count": 59,
   "metadata": {},
   "outputs": [],
   "source": [
    "def test_knn_F(test_X, test_Y, train_X, train_Y, k):\n",
    "    predicted_labels = []\n",
    "    actual_labels = []\n",
    "\n",
    "    for idx, x in test_X.iterrows():\n",
    "        distances = np.sqrt(np.sum((train_X - x)**2, axis=1))\n",
    "        neighbors_indices = distances.index[np.argsort(distances)][:k]\n",
    "        neighbors_labels = train_Y.loc[neighbors_indices].values.flatten()\n",
    "        predicted_label = max(set(neighbors_labels), key=list(neighbors_labels).count)\n",
    "        actual_label = test_Y.loc[idx].item()\n",
    "\n",
    "        predicted_labels.append(predicted_label)\n",
    "        actual_labels.append(actual_label)\n",
    "\n",
    "    # Calculate F-score for each class\n",
    "    f_scores = []\n",
    "    for label in set(actual_labels):\n",
    "        true_positive = sum(1 for p, a in zip(predicted_labels, actual_labels) if p == a and a == label)\n",
    "        false_positive = sum(1 for p, a in zip(predicted_labels, actual_labels) if p == label and a != label)\n",
    "        false_negative = sum(1 for p, a in zip(predicted_labels, actual_labels) if p != label and a == label)\n",
    "\n",
    "        precision = true_positive / (true_positive + false_positive) if (true_positive + false_positive) > 0 else 0\n",
    "        recall = true_positive / (true_positive + false_negative) if (true_positive + false_negative) > 0 else 0\n",
    "        f = 2 * precision * recall / (precision + recall) if (precision + recall) > 0 else 0\n",
    "        f_scores.append(f)\n",
    "\n",
    "    # Calculate macro-averaged F-score\n",
    "    overall_f = np.mean(f_scores)\n",
    "\n",
    "    return overall_f"
   ]
  },
  {
   "cell_type": "code",
   "execution_count": 63,
   "metadata": {},
   "outputs": [],
   "source": [
    "def tune_k_with_f(sampling_function, train_X, train_Y, val_X, val_Y, sample_rates, target_class, k_range, num_tests=5):\n",
    "    best_k_values = []\n",
    "    best_f_scores = []\n",
    "\n",
    "    for s_rate in sample_rates:\n",
    "        best_k_for_rate = -1\n",
    "        best_f_for_rate = -1\n",
    "\n",
    "        for k in k_range:\n",
    "            train_X_sampled, train_Y_sampled = sampling_function(train_X, train_Y, s_rate, target_class)\n",
    "            f = test_knn_F(val_X, val_Y, train_X_sampled, train_Y_sampled, k)\n",
    "\n",
    "            if f > best_f_for_rate:\n",
    "                best_f_for_rate = f\n",
    "                best_k_for_rate = k\n",
    "\n",
    "        best_k_values.append(best_k_for_rate)\n",
    "        best_f_scores.append(best_f_for_rate)\n",
    "\n",
    "    return best_k_values, best_f_scores"
   ]
  },
  {
   "cell_type": "code",
   "execution_count": 61,
   "metadata": {},
   "outputs": [],
   "source": [
    "def test_with_tuned_k(sampling_function, train_X, train_Y, test_X, test_Y, sample_rates, target_class, best_k_values, num_tests=5):\n",
    "    class_percentage = []\n",
    "    accuracies = []\n",
    "\n",
    "    for i, s_rate in enumerate(sample_rates):\n",
    "        train_X_sampled, train_Y_sampled = sampling_function(train_X, train_Y, s_rate, target_class)\n",
    "        accuracy = test_knn(test_X, test_Y, train_X_sampled, train_Y_sampled, best_k_values[i])\n",
    "        accuracies.append(accuracy)\n",
    "\n",
    "        percentage = calculate_class_percentage(train_Y_sampled, target_class)\n",
    "        class_percentage.append(percentage)\n",
    "\n",
    "    return class_percentage, accuracies"
   ]
  },
  {
   "cell_type": "code",
   "execution_count": 64,
   "metadata": {},
   "outputs": [
    {
     "name": "stdout",
     "output_type": "stream",
     "text": [
      "\n",
      "Class 0 as minority:\n",
      "\tBest k values (validation): [2, 2, 2, 2, 2, 4, 2, 2, 2, 1, 9]\n",
      "\tBest F1-scores (validation): [0.658 0.656 0.657 0.656 0.618 0.632 0.637 0.637 0.638 0.551 0.506]\n",
      "\n",
      "Class 1 as minority:\n",
      "\tBest k values (validation): [2, 2, 2, 4, 2, 4, 2, 2, 4, 2, 2]\n",
      "\tBest F1-scores (validation): [0.658 0.656 0.66  0.666 0.684 0.677 0.696 0.697 0.7   0.695 0.458]\n",
      "\n",
      "Class 2 as minority:\n",
      "\tBest k values (validation): [2, 4, 4, 7, 3, 7, 5, 7, 5, 5, 2]\n",
      "\tBest F1-scores (validation): [0.658 0.656 0.652 0.657 0.661 0.656 0.645 0.657 0.594 0.523 0.408]\n"
     ]
    },
    {
     "data": {
      "image/png": "[encoded data removed]",
      "text/plain": [
       "<Figure size 640x480 with 1 Axes>"
      ]
     },
     "metadata": {},
     "output_type": "display_data"
    }
   ],
   "source": [
    "k_range = np.arange(1,60)\n",
    "sample_rates = np.arange(0.0, 1.1, step=0.1)\n",
    "classes = [0, 1, 2]\n",
    "\n",
    "all_tuned_accuracies_under = []\n",
    "all_percentages_under = []\n",
    "\n",
    "for c in classes:\n",
    "    print(f\"\\nClass {c} as minority:\")\n",
    "    best_k_under, best_f_under = tune_k_with_f(undersample, train_X, train_Y, val_X, val_Y, sample_rates, c, k_range)\n",
    "    print(f\"\\tBest k values (validation): {best_k_under}\")\n",
    "    print(f\"\\tBest F-scores (validation): {np.round(best_f_under, 3)}\")\n",
    "\n",
    "    minority_percentage_under, tuned_accuracies_under = test_with_tuned_k(undersample, train_X, train_Y, test_X, test_Y, sample_rates, c, best_k_under)\n",
    "    all_tuned_accuracies_under.append(tuned_accuracies_under)\n",
    "    all_percentages_under.append(minority_percentage_under)\n",
    "\n",
    "plot_accuracy_vs_sampling(classes, all_percentages_under, all_tuned_accuracies_under, 'Minority', 'Tuned k')"
   ]
  },
  {
   "cell_type": "code",
   "execution_count": 65,
   "metadata": {},
   "outputs": [
    {
     "name": "stdout",
     "output_type": "stream",
     "text": [
      "\n",
      "Oversampling:\n",
      "\n",
      "Class 0 as majority:\n",
      "\tBest k values (validation): [2, 2, 4, 8, 5, 6, 9, 6, 12, 24, 8]\n",
      "\tBest F1-scores (validation): [0.658 0.658 0.687 0.686 0.689 0.687 0.688 0.692 0.701 0.701 0.707]\n",
      "\n",
      "Class 1 as majority:\n",
      "\tBest k values (validation): [2, 2, 2, 2, 2, 2, 2, 2, 2, 2, 2]\n",
      "\tBest F1-scores (validation): [0.658 0.656 0.655 0.654 0.654 0.649 0.65  0.653 0.648 0.643 0.649]\n",
      "\n",
      "Class 2 as majority:\n",
      "\tBest k values (validation): [2, 2, 2, 2, 4, 2, 4, 2, 4, 2, 4]\n",
      "\tBest F1-scores (validation): [0.658 0.646 0.655 0.64  0.642 0.648 0.641 0.647 0.625 0.661 0.601]\n"
     ]
    },
    {
     "data": {
      "image/png": "[encoded data removed]",
      "text/plain": [
       "<Figure size 640x480 with 1 Axes>"
      ]
     },
     "metadata": {},
     "output_type": "display_data"
    }
   ],
   "source": [
    "all_tuned_accuracies_over = []\n",
    "all_percentages_over = []\n",
    "\n",
    "for c in classes:\n",
    "    print(f\"\\nClass {c} as majority:\")\n",
    "    best_k_over, best_f_over = tune_k_with_f(oversample, train_X, train_Y, val_X, val_Y, sample_rates, c, k_range)\n",
    "    print(f\"\\tBest k values (validation): {best_k_over}\")\n",
    "    print(f\"\\tBest F-scores (validation): {np.round(best_f_over, 3)}\")\n",
    "\n",
    "    majority_percentage_over, tuned_accuracies_over = test_with_tuned_k(oversample, train_X, train_Y, test_X, test_Y, sample_rates, c, best_k_over)\n",
    "    all_tuned_accuracies_over.append(tuned_accuracies_over)\n",
    "    all_percentages_over.append(majority_percentage_over)\n",
    "\n",
    "plot_accuracy_vs_sampling(classes, all_percentages_over, all_tuned_accuracies_over, 'Majority', 'Tuned k')"
   ]
  }
 ],
 "metadata": {
  "colab": {
   "collapsed_sections": [
    "tNVBum3ZBBCQ"
   ],
   "provenance": []
  },
  "kernelspec": {
   "display_name": "base",
   "language": "python",
   "name": "python3"
  },
  "language_info": {
   "codemirror_mode": {
    "name": "ipython",
    "version": 3
   },
   "file_extension": ".py",
   "mimetype": "text/x-python",
   "name": "python",
   "nbconvert_exporter": "python",
   "pygments_lexer": "ipython3",
   "version": "3.10.8"
  }
 },
 "nbformat": 4,
 "nbformat_minor": 0
}
